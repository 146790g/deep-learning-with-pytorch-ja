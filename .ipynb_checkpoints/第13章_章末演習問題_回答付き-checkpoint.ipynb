{
 "cells": [
  {
   "cell_type": "markdown",
   "metadata": {},
   "source": [
    "### 第13章の章末演習問題\n",
    "※ ここではGoogle Colaraboratoryでの実行を想定しています。\n",
    "\n",
    "※ Google Colaraboratoryでbashコマンドを実行するには、命令の前に!をつけます。"
   ]
  },
  {
   "cell_type": "markdown",
   "metadata": {},
   "source": [
    "## [1] 分類モデルのオーギュメンテーションを、本章と同様に個別のモデルとして実装してください"
   ]
  },
  {
   "cell_type": "markdown",
   "metadata": {},
   "source": [
    "### （a）実装では何らかを妥協しスキップする必要がありましたか。"
   ]
  },
  {
   "cell_type": "code",
   "execution_count": 1,
   "metadata": {},
   "outputs": [
    {
     "name": "stderr",
     "output_type": "stream",
     "text": [
      "2021-01-16 05:22:10,506 INFO     pid:29648 p2ch13_exercise.training:142:initModel Using CUDA; 1 devices.\n"
     ]
    }
   ],
   "source": [
    "# p2ch13-exerciseのファイルを使用します\n",
    "from p2ch13_exercise.training import LunaTrainingApp\n",
    "\n",
    "app = LunaTrainingApp([])"
   ]
  },
  {
   "cell_type": "code",
   "execution_count": 2,
   "metadata": {},
   "outputs": [
    {
     "name": "stderr",
     "output_type": "stream",
     "text": [
      "2021-01-16 05:22:15,305 INFO     pid:29648 p2ch13_exercise.training:206:main Starting LunaTrainingApp, Namespace(augment_flip=True, augment_noise=True, augment_offset=True, augment_rotate=True, augment_scale=True, augmented=False, balanced=False, batch_size=64, comment='dlwpt', epochs=1, num_workers=8, tb_prefix='p2ch13-exercise')\n",
      "2021-01-16 05:22:17,222 INFO     pid:29648 p2ch13_exercise.dsets:279:__init__ <p2ch13_exercise.dsets.LunaDataset object at 0x7f2de80c3e80>: 99128 training samples, 98879 neg, 249 pos, unbalanced ratio\n",
      "2021-01-16 05:22:17,232 INFO     pid:29648 p2ch13_exercise.dsets:279:__init__ <p2ch13_exercise.dsets.LunaDataset object at 0x7f2e60562048>: 11015 validation samples, 10987 neg, 28 pos, unbalanced ratio\n",
      "2021-01-16 05:22:17,233 INFO     pid:29648 p2ch13_exercise.training:220:main Epoch 1 of 1, 1549/173 batches of size 64*1\n",
      "2021-01-16 05:22:17,237 WARNING  pid:29648 util.util:221:enumerateWithEstimate E1 Training ----/1549, starting\n",
      "2021-01-16 05:22:35,476 INFO     pid:29648 util.util:241:enumerateWithEstimate E1 Training   64/1549, done at 2021-01-16 05:28:39, 0:06:17\n",
      "2021-01-16 05:23:23,317 INFO     pid:29648 util.util:241:enumerateWithEstimate E1 Training  256/1549, done at 2021-01-16 05:28:44, 0:06:22\n",
      "2021-01-16 05:26:43,873 INFO     pid:29648 util.util:241:enumerateWithEstimate E1 Training 1024/1549, done at 2021-01-16 05:28:59, 0:06:37\n",
      "2021-01-16 05:29:07,880 WARNING  pid:29648 util.util:252:enumerateWithEstimate E1 Training ----/1549, done at 2021-01-16 05:29:07\n",
      "2021-01-16 05:29:08,894 INFO     pid:29648 p2ch13_exercise.training:325:logMetrics E1 LunaTrainingApp\n",
      "/home/ubuntu/work/deep-learning-with-pytorch-ja/p2ch13_exercise/training.py:362: RuntimeWarning: invalid value encountered in double_scalars\n",
      "  metrics_dict[\"pr/f1_score\"] = 2 * (precision * recall) / (precision + recall)\n",
      "2021-01-16 05:29:09,003 INFO     pid:29648 p2ch13_exercise.training:374:logMetrics E1 trn      0.0234 loss,  99.7% correct, 0.0000 precision, 0.0000 recall, nan f1 score\n",
      "2021-01-16 05:29:09,004 INFO     pid:29648 p2ch13_exercise.training:386:logMetrics E1 trn_neg  0.0030 loss, 100.0% correct (98857 of 98879)\n",
      "2021-01-16 05:29:09,004 INFO     pid:29648 p2ch13_exercise.training:398:logMetrics E1 trn_pos  8.1235 loss,   0.0% correct (0 of 249)\n",
      "2021-01-16 05:29:09,051 WARNING  pid:29648 util.util:221:enumerateWithEstimate E1 Validation  ----/173, starting\n",
      "2021-01-16 05:29:15,863 INFO     pid:29648 util.util:241:enumerateWithEstimate E1 Validation    64/173, done at 2021-01-16 05:29:27, 0:00:17\n",
      "2021-01-16 05:29:25,648 WARNING  pid:29648 util.util:252:enumerateWithEstimate E1 Validation  ----/173, done at 2021-01-16 05:29:25\n",
      "2021-01-16 05:29:26,100 INFO     pid:29648 p2ch13_exercise.training:325:logMetrics E1 LunaTrainingApp\n",
      "/home/ubuntu/work/deep-learning-with-pytorch-ja/p2ch13_exercise/training.py:356: RuntimeWarning: invalid value encountered in true_divide\n",
      "  truePos_count + falsePos_count\n",
      "2021-01-16 05:29:26,102 INFO     pid:29648 p2ch13_exercise.training:374:logMetrics E1 val      0.0178 loss,  99.7% correct, nan precision, 0.0000 recall, nan f1 score\n",
      "2021-01-16 05:29:26,103 INFO     pid:29648 p2ch13_exercise.training:386:logMetrics E1 val_neg  0.0020 loss, 100.0% correct (10987 of 10987)\n",
      "2021-01-16 05:29:26,103 INFO     pid:29648 p2ch13_exercise.training:398:logMetrics E1 val_pos  6.2325 loss,   0.0% correct (0 of 28)\n"
     ]
    },
    {
     "name": "stdout",
     "output_type": "stream",
     "text": [
      "CPU times: user 4min 27s, sys: 2min 25s, total: 6min 52s\n",
      "Wall time: 7min 10s\n"
     ]
    }
   ],
   "source": [
    "%%time\n",
    "app.main()"
   ]
  },
  {
   "cell_type": "code",
   "execution_count": null,
   "metadata": {},
   "outputs": [],
   "source": [
    "%%time\n",
    "app = LunaTrainingApp([\"--augmented-gpu=True\"])\n",
    "app.main()"
   ]
  },
  {
   "cell_type": "markdown",
   "metadata": {},
   "source": [
    "### （b）訓練速度はどう変わりましたか。"
   ]
  },
  {
   "cell_type": "markdown",
   "metadata": {},
   "source": [
    "12章の分類モデルでは、前処理をCPUで実行していたため、モデルに組み込んだ場合の方が早くなる。"
   ]
  },
  {
   "cell_type": "markdown",
   "metadata": {},
   "source": [
    "## [2] セグメンテーションのDatasetの実装を変更して訓練、検証、テストセットの3つに分割できるようにしてください"
   ]
  },
  {
   "cell_type": "markdown",
   "metadata": {},
   "source": [
    "### （a）テストセットにはデータのどれくらいの割合を使いましたか。"
   ]
  },
  {
   "cell_type": "markdown",
   "metadata": {},
   "source": [
    "### （b）テストセットに対する性能と検証セットに対する性能は同程度でしたか。"
   ]
  },
  {
   "cell_type": "markdown",
   "metadata": {},
   "source": [
    "### （c）訓練サンプル数を減らすと、訓練結果はどの程度悪くなりましたか。"
   ]
  },
  {
   "cell_type": "markdown",
   "metadata": {},
   "source": [
    "## [3] 結節・非結節を見分けるだけでなく、悪性結節が良性結節かも見分けるセグメンテーションモデルを作成してください"
   ]
  },
  {
   "cell_type": "markdown",
   "metadata": {},
   "source": [
    "### （a）指標のレポートをどう変えなければなりませんか。画像の出力はどうでしょうか。"
   ]
  },
  {
   "cell_type": "markdown",
   "metadata": {},
   "source": [
    "### （b）結果はどうなりましたか。結果は、次の分類ステップを省略できる程の性能でしたか。"
   ]
  },
  {
   "cell_type": "code",
   "execution_count": null,
   "metadata": {},
   "outputs": [],
   "source": []
  }
 ],
 "metadata": {
  "kernelspec": {
   "display_name": "Environment (conda_pytorch_p36)",
   "language": "python",
   "name": "conda_pytorch_p36"
  },
  "language_info": {
   "codemirror_mode": {
    "name": "ipython",
    "version": 3
   },
   "file_extension": ".py",
   "mimetype": "text/x-python",
   "name": "python",
   "nbconvert_exporter": "python",
   "pygments_lexer": "ipython3",
   "version": "3.6.10"
  }
 },
 "nbformat": 4,
 "nbformat_minor": 4
}
