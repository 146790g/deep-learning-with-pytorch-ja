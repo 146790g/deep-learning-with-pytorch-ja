{
  "nbformat": 4,
  "nbformat_minor": 0,
  "metadata": {
    "kernelspec": {
      "display_name": "Python 3",
      "language": "python",
      "name": "python3"
    },
    "language_info": {
      "codemirror_mode": {
        "name": "ipython",
        "version": 3
      },
      "file_extension": ".py",
      "mimetype": "text/x-python",
      "name": "python",
      "nbconvert_exporter": "python",
      "pygments_lexer": "ipython3",
      "version": "3.6.6"
    },
    "colab": {
      "name": "2_pre_trained_networks.ipynb",
      "provenance": [],
      "collapsed_sections": []
    }
  },
  "cells": [
    {
      "cell_type": "markdown",
      "metadata": {
        "id": "kP2XZoUjCPgR",
        "colab_type": "text"
      },
      "source": [
        "## 日本語版注釈\n",
        "\n",
        "Google Colaboratoryで動作させるように変更しています。\n",
        "\n",
        "Jupyter Notebookで実行する場合は該当の部分のコメントアウトを変更してください。"
      ]
    },
    {
      "cell_type": "code",
      "metadata": {
        "id": "CrlzQX7TAkJH",
        "colab_type": "code",
        "colab": {}
      },
      "source": [
        "from torchvision import models"
      ],
      "execution_count": null,
      "outputs": []
    },
    {
      "cell_type": "code",
      "metadata": {
        "id": "BF-FEoq5AkJL",
        "colab_type": "code",
        "colab": {}
      },
      "source": [
        "dir(models)"
      ],
      "execution_count": null,
      "outputs": []
    },
    {
      "cell_type": "code",
      "metadata": {
        "id": "_MMlPVp1AkJO",
        "colab_type": "code",
        "colab": {}
      },
      "source": [
        "alexnet = models.AlexNet()"
      ],
      "execution_count": null,
      "outputs": []
    },
    {
      "cell_type": "code",
      "metadata": {
        "id": "fiv6VUEOAkJQ",
        "colab_type": "code",
        "colab": {}
      },
      "source": [
        "resnet = models.resnet101(pretrained=True)"
      ],
      "execution_count": null,
      "outputs": []
    },
    {
      "cell_type": "code",
      "metadata": {
        "id": "JH99eUQxAkJT",
        "colab_type": "code",
        "colab": {}
      },
      "source": [
        "resnet"
      ],
      "execution_count": null,
      "outputs": []
    },
    {
      "cell_type": "code",
      "metadata": {
        "id": "93G8l0lnAkJV",
        "colab_type": "code",
        "colab": {}
      },
      "source": [
        "from torchvision import transforms\n",
        "preprocess = transforms.Compose([\n",
        "        transforms.Resize(256),\n",
        "        transforms.CenterCrop(224),\n",
        "        transforms.ToTensor(),\n",
        "        transforms.Normalize(\n",
        "            mean=[0.485, 0.456, 0.406],\n",
        "            std=[0.229, 0.224, 0.225]\n",
        "        )])"
      ],
      "execution_count": null,
      "outputs": []
    },
    {
      "cell_type": "code",
      "metadata": {
        "id": "qys5eU5qAkJX",
        "colab_type": "code",
        "colab": {}
      },
      "source": [
        "from PIL import Image\n",
        "\n",
        "# GitHubのリポジトリから実行の場合\n",
        "# img = Image.open(\"../data/p1ch2/bobby.jpg\")\n",
        "\n",
        "# Google Colaboratoryの場合\n",
        "# /data/p1ch2/bobby.jpgを選択・アップロードしてください\n",
        "from google.colab import files\n",
        "\n",
        "uploade = files.upload()\n",
        "img = Image.open(\"bobby.jpg\")\n"
      ],
      "execution_count": null,
      "outputs": []
    },
    {
      "cell_type": "code",
      "metadata": {
        "id": "HNfJl_OUAkJc",
        "colab_type": "code",
        "colab": {}
      },
      "source": [
        "img\n"
      ],
      "execution_count": null,
      "outputs": []
    },
    {
      "cell_type": "code",
      "metadata": {
        "id": "HKFAWiYTAkJe",
        "colab_type": "code",
        "colab": {}
      },
      "source": [
        "img_t = preprocess(img)"
      ],
      "execution_count": null,
      "outputs": []
    },
    {
      "cell_type": "code",
      "metadata": {
        "id": "8MnGEZuMAkJg",
        "colab_type": "code",
        "colab": {}
      },
      "source": [
        "import torch\n",
        "batch_t = torch.unsqueeze(img_t, 0)"
      ],
      "execution_count": null,
      "outputs": []
    },
    {
      "cell_type": "code",
      "metadata": {
        "id": "GI5puQQ-AkJi",
        "colab_type": "code",
        "colab": {}
      },
      "source": [
        "resnet.eval()"
      ],
      "execution_count": null,
      "outputs": []
    },
    {
      "cell_type": "code",
      "metadata": {
        "id": "HuhFo9bAAkJk",
        "colab_type": "code",
        "colab": {}
      },
      "source": [
        "out = resnet(batch_t)\n",
        "\n",
        "out"
      ],
      "execution_count": null,
      "outputs": []
    },
    {
      "cell_type": "code",
      "metadata": {
        "id": "PpGClycOAkJn",
        "colab_type": "code",
        "colab": {}
      },
      "source": [
        "# GitHubのリポジトリから実行の場合\n",
        "#with open('../data/p1ch2/imagenet_classes.txt') as f:\n",
        "#    labels = [line.strip() for line in f.readlines()]\n",
        "\n",
        "# Google Colaboratoryの場合\n",
        "# /data/p1ch2/imagenet_classes.txtを選択・アップロードしてください\n",
        "uploade = files.upload()\n",
        "\n",
        "with open('imagenet_classes.txt') as f:\n",
        "    labels = [line.strip() for line in f.readlines()]\n",
        "\n"
      ],
      "execution_count": null,
      "outputs": []
    },
    {
      "cell_type": "code",
      "metadata": {
        "id": "h0XIV9PaAkJp",
        "colab_type": "code",
        "colab": {}
      },
      "source": [
        "_, index = torch.max(out, 1)"
      ],
      "execution_count": null,
      "outputs": []
    },
    {
      "cell_type": "code",
      "metadata": {
        "id": "YG6sZ2aQAkJr",
        "colab_type": "code",
        "colab": {}
      },
      "source": [
        "percentage = torch.nn.functional.softmax(out, dim=1)[0] * 100\n",
        "labels[index[0]], percentage[index[0]].item()"
      ],
      "execution_count": null,
      "outputs": []
    },
    {
      "cell_type": "code",
      "metadata": {
        "id": "_z5cRQBnAkJt",
        "colab_type": "code",
        "colab": {}
      },
      "source": [
        "_, indices = torch.sort(out, descending=True)\n",
        "[(labels[idx], percentage[idx].item()) for idx in indices[0][:5]]"
      ],
      "execution_count": null,
      "outputs": []
    },
    {
      "cell_type": "markdown",
      "metadata": {
        "id": "AmyYVYRuIwWL",
        "colab_type": "text"
      },
      "source": [
        "以上。\n"
      ]
    }
  ]
}