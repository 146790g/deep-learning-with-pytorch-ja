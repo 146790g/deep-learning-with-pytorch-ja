{
 "cells": [
  {
   "cell_type": "markdown",
   "metadata": {
    "id": "WehYXzWpwhi1"
   },
   "source": [
    "### 第13章の章末演習問題"
   ]
  },
  {
   "cell_type": "markdown",
   "metadata": {
    "id": "lRoPRKcMwlbZ"
   },
   "source": [
    "### [1] 分類モデルのオーギュメンテーションを、本章と同様に個別のモデルとして実装してください\n",
    "\n",
    "※ ここではGoogle Colaraboratoryでの実行を想定しています。\n"
   ]
  },
  {
   "cell_type": "markdown",
   "metadata": {
    "id": "FSZC8BAJw9A-"
   },
   "source": [
    "#### （a）実装では何らかを妥協しスキップする必要がありましたか。"
   ]
  },
  {
   "cell_type": "code",
   "execution_count": 1,
   "metadata": {
    "id": "kduB0LXvxL0b"
   },
   "outputs": [],
   "source": [
    "# 回答"
   ]
  },
  {
   "cell_type": "markdown",
   "metadata": {
    "id": "YO24ioODyKtO"
   },
   "source": [
    "#### （b）訓練速度はどう変わりましたか。"
   ]
  },
  {
   "cell_type": "code",
   "execution_count": null,
   "metadata": {
    "id": "U_7dlCScyWYr"
   },
   "outputs": [],
   "source": [
    "# 回答"
   ]
  },
  {
   "cell_type": "markdown",
   "metadata": {
    "id": "EdWttSfHzGKz"
   },
   "source": [
    "### [2] セグメンテーションのDatasetの実装を変更して訓練、検証、テストセットの3つに分割できるようにしてください"
   ]
  },
  {
   "cell_type": "markdown",
   "metadata": {
    "id": "9yzctZuLzODR"
   },
   "source": [
    "#### （a）テストセットにはデータのどれくらいの割合を使いましたか。"
   ]
  },
  {
   "cell_type": "code",
   "execution_count": null,
   "metadata": {
    "id": "DFq3TaQBy-ZE"
   },
   "outputs": [],
   "source": [
    "# 回答"
   ]
  },
  {
   "cell_type": "markdown",
   "metadata": {
    "id": "OBEZN-2gzy-P"
   },
   "source": [
    "#### （b）テストセットに対する性能と検証セットに対する性能は同程度でしたか。"
   ]
  },
  {
   "cell_type": "code",
   "execution_count": null,
   "metadata": {
    "id": "4e-l9C2S5Ihj"
   },
   "outputs": [],
   "source": [
    "# 回答"
   ]
  },
  {
   "source": [
    "#### （c）訓練サンプル数を減らすと、訓練結果はどの程度悪くなりましたか。"
   ],
   "cell_type": "markdown",
   "metadata": {}
  },
  {
   "cell_type": "code",
   "execution_count": null,
   "metadata": {},
   "outputs": [],
   "source": [
    "# 回答"
   ]
  },
  {
   "cell_type": "markdown",
   "metadata": {
    "id": "EdWttSfHzGKz"
   },
   "source": [
    "### [3] 結節・非結節を見分けるだけでなく、悪性結節が良性結節かも見分けるセグメンテーションモデルを作成してください"
   ]
  },
  {
   "cell_type": "markdown",
   "metadata": {
    "id": "9yzctZuLzODR"
   },
   "source": [
    "#### （a）指標のレポートをどう変えなければなりませんか。画像の出力はどうでしょうか。"
   ]
  },
  {
   "cell_type": "code",
   "execution_count": null,
   "metadata": {
    "id": "DFq3TaQBy-ZE"
   },
   "outputs": [],
   "source": [
    "# 回答"
   ]
  },
  {
   "cell_type": "markdown",
   "metadata": {
    "id": "OBEZN-2gzy-P"
   },
   "source": [
    "#### （b）結果はどうなりましたか。結果は、次の分類ステップを省略できる程の性能でしたか。"
   ]
  },
  {
   "cell_type": "code",
   "execution_count": null,
   "metadata": {
    "id": "4e-l9C2S5Ihj"
   },
   "outputs": [],
   "source": [
    "# 回答"
   ]
  },
  {
   "cell_type": "markdown",
   "metadata": {
    "id": "EdWttSfHzGKz"
   },
   "source": [
    "### [4] 64 × 64のクロップ画像とスライス全体の両方を使って訓練ができますか [16]。"
   ]
  },
  {
   "cell_type": "code",
   "execution_count": null,
   "metadata": {
    "id": "DFq3TaQBy-ZE"
   },
   "outputs": [],
   "source": [
    "# 回答"
   ]
  },
  {
   "cell_type": "markdown",
   "metadata": {
    "id": "EdWttSfHzGKz"
   },
   "source": [
    "### [5] LUNA (あるいは LIDC) 以外に使える追加のデータを探してみてください。"
   ]
  },
  {
   "cell_type": "code",
   "execution_count": null,
   "metadata": {
    "id": "DFq3TaQBy-ZE"
   },
   "outputs": [],
   "source": [
    "# 回答"
   ]
  },
  {
   "source": [
    "以上。"
   ],
   "cell_type": "markdown",
   "metadata": {}
  }
 ],
 "metadata": {
  "colab": {
   "collapsed_sections": [],
   "name": "第2章_章末演習問題.ipynb",
   "provenance": []
  },
  "kernelspec": {
   "display_name": "Python 3",
   "language": "python",
   "name": "python3"
  },
  "language_info": {
   "codemirror_mode": {
    "name": "ipython",
    "version": 3
   },
   "file_extension": ".py",
   "mimetype": "text/x-python",
   "name": "python",
   "nbconvert_exporter": "python",
   "pygments_lexer": "ipython3",
   "version": "3.8.0"
  }
 },
 "nbformat": 4,
 "nbformat_minor": 4
}