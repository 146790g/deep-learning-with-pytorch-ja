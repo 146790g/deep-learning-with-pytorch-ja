{
  "nbformat": 4,
  "nbformat_minor": 0,
  "metadata": {
    "kernelspec": {
      "display_name": "Python 3",
      "language": "python",
      "name": "python3"
    },
    "language_info": {
      "codemirror_mode": {
        "name": "ipython",
        "version": 3
      },
      "file_extension": ".py",
      "mimetype": "text/x-python",
      "name": "python",
      "nbconvert_exporter": "python",
      "pygments_lexer": "ipython3",
      "version": "3.7.4"
    },
    "colab": {
      "name": "第6章_章末演習問題_回答付き.ipynb",
      "provenance": [],
      "collapsed_sections": []
    }
  },
  "cells": [
    {
      "cell_type": "markdown",
      "metadata": {
        "id": "47Tvll5Hh6xK"
      },
      "source": [
        "# [1] 単純なニューラルネットワークモデルで隠れニューロンの数と学習率を実験してみてください。\n",
        "※ ここではGoogle Colaraboratoryでの実行を想定しています。\n",
        "\n",
        "※ Google Colaraboratoryでbashコマンドを実行するには、命令の前に!をつけます。"
      ]
    },
    {
      "cell_type": "markdown",
      "metadata": {
        "id": "gUSxCFRGh6xL"
      },
      "source": [
        "### （a）モデルからより線形な出力を得るにはどのような変更を行うといいのか確認してください。"
      ]
    },
    {
      "cell_type": "code",
      "metadata": {
        "id": "zTNNckhzh6xL"
      },
      "source": [
        "# 回答\n"
      ],
      "execution_count": null,
      "outputs": []
    },
    {
      "cell_type": "code",
      "metadata": {
        "id": "jxVqm07zi6DJ"
      },
      "source": [
        "# モデルの隠れ層の値を大きくします。そうすることで、モデルの容量が増えて、正しい出力（線形）に近づきます。\n",
        "# 以下のコードで確認できます。hidden_numの値を変えて学習を行い、結果のグラフを比較してみてください。"
      ],
      "execution_count": null,
      "outputs": []
    },
    {
      "cell_type": "code",
      "metadata": {
        "id": "sEcJ8c1Zh6xP"
      },
      "source": [
        "%matplotlib inline\n",
        "import torch\n",
        "import torch.nn as nn\n",
        "import torch.optim as optim\n",
        "from collections import OrderedDict\n",
        "import numpy as np"
      ],
      "execution_count": null,
      "outputs": []
    },
    {
      "cell_type": "code",
      "metadata": {
        "id": "Ftthz1lxh6xS"
      },
      "source": [
        "t_c = [0.5,  14.0, 15.0, 28.0, 11.0,  8.0,  3.0, -4.0,  6.0, 13.0, 21.0]\n",
        "t_u = [35.7, 55.9, 58.2, 81.9, 56.3, 48.9, 33.9, 21.8, 48.4, 60.4, 68.4]\n",
        "t_c = torch.tensor(t_c).unsqueeze(1) \n",
        "t_u = torch.tensor(t_u).unsqueeze(1) "
      ],
      "execution_count": null,
      "outputs": []
    },
    {
      "cell_type": "code",
      "metadata": {
        "id": "PKqTUMRqh6xV",
        "outputId": "2d6d491c-118d-4aeb-9969-dbcb542d2049",
        "colab": {
          "base_uri": "https://localhost:8080/"
        }
      },
      "source": [
        "n_samples = t_u.shape[0]\n",
        "n_val = int(0.2 * n_samples)\n",
        "\n",
        "shuffled_indices = torch.randperm(n_samples)\n",
        "\n",
        "train_indices = shuffled_indices[:-n_val]\n",
        "val_indices = shuffled_indices[-n_val:]\n",
        "\n",
        "train_indices, val_indices"
      ],
      "execution_count": null,
      "outputs": [
        {
          "output_type": "execute_result",
          "data": {
            "text/plain": [
              "(tensor([ 7, 10,  0,  1,  8,  9,  2,  5,  4]), tensor([3, 6]))"
            ]
          },
          "metadata": {
            "tags": []
          },
          "execution_count": 5
        }
      ]
    },
    {
      "cell_type": "code",
      "metadata": {
        "id": "Gt2nVJjDh6xX"
      },
      "source": [
        "t_u_train = t_u[train_indices]\n",
        "t_c_train = t_c[train_indices]\n",
        "\n",
        "t_u_val = t_u[val_indices]\n",
        "t_c_val = t_c[val_indices]\n",
        "\n",
        "t_un_train = 0.1 * t_u_train\n",
        "t_un_val = 0.1 * t_u_val"
      ],
      "execution_count": null,
      "outputs": []
    },
    {
      "cell_type": "code",
      "metadata": {
        "id": "MpCd-ViEh6xa",
        "outputId": "d7314a31-bb57-4df1-dedc-a0e6cbb577cd",
        "colab": {
          "base_uri": "https://localhost:8080/"
        }
      },
      "source": [
        "hidden_num = 200  # 8を50に\n",
        "\n",
        "seq_model = nn.Sequential(OrderedDict([\n",
        "    ('hidden_linear', nn.Linear(1, hidden_num)),\n",
        "    ('hidden_activation', nn.Tanh()),\n",
        "    ('output_linear', nn.Linear(hidden_num, 1))\n",
        "]))\n",
        "\n",
        "seq_model"
      ],
      "execution_count": null,
      "outputs": [
        {
          "output_type": "execute_result",
          "data": {
            "text/plain": [
              "Sequential(\n",
              "  (hidden_linear): Linear(in_features=1, out_features=200, bias=True)\n",
              "  (hidden_activation): Tanh()\n",
              "  (output_linear): Linear(in_features=200, out_features=1, bias=True)\n",
              ")"
            ]
          },
          "metadata": {
            "tags": []
          },
          "execution_count": 7
        }
      ]
    },
    {
      "cell_type": "code",
      "metadata": {
        "id": "rugOy3zIh6xc"
      },
      "source": [
        "def training_loop(n_epochs, optimizer, model, loss_fn, t_u_train, t_u_val,\n",
        "                  t_c_train, t_c_val):\n",
        "  \n",
        "    for epoch in range(1, n_epochs + 1):\n",
        "        t_p_train = model(t_u_train) # <1>\n",
        "        loss_train = loss_fn(t_p_train, t_c_train)\n",
        "\n",
        "        t_p_val = model(t_u_val) # <1>\n",
        "        loss_val = loss_fn(t_p_val, t_c_val)\n",
        "        \n",
        "        optimizer.zero_grad()\n",
        "        loss_train.backward() # <2>\n",
        "        optimizer.step()\n",
        "\n",
        "        if epoch == 1 or epoch % 1000 == 0:\n",
        "            print(f\"Epoch {epoch}, Training loss {loss_train.item():.4f},\"\n",
        "                  f\" Validation loss {loss_val.item():.4f}\")"
      ],
      "execution_count": null,
      "outputs": []
    },
    {
      "cell_type": "code",
      "metadata": {
        "id": "B6L6gRffh6xf",
        "outputId": "16019aae-8ae1-466d-bf03-57bc4e26c61d",
        "colab": {
          "base_uri": "https://localhost:8080/"
        }
      },
      "source": [
        "optimizer = optim.SGD(seq_model.parameters(), lr=1e-3) \n",
        "\n",
        "training_loop(\n",
        "    n_epochs = 5000, \n",
        "    optimizer = optimizer,\n",
        "    model = seq_model,\n",
        "    loss_fn = nn.MSELoss(),\n",
        "    t_u_train = t_un_train,\n",
        "    t_u_val = t_un_val, \n",
        "    t_c_train = t_c_train,\n",
        "    t_c_val = t_c_val)"
      ],
      "execution_count": null,
      "outputs": [
        {
          "output_type": "stream",
          "text": [
            "Epoch 1, Training loss 139.1303, Validation loss 393.3226\n",
            "Epoch 1000, Training loss 3.2974, Validation loss 14.8469\n",
            "Epoch 2000, Training loss 2.6285, Validation loss 8.8589\n",
            "Epoch 3000, Training loss 2.2863, Validation loss 6.7828\n",
            "Epoch 4000, Training loss 2.0358, Validation loss 5.8111\n",
            "Epoch 5000, Training loss 1.8455, Validation loss 5.3688\n"
          ],
          "name": "stdout"
        }
      ]
    },
    {
      "cell_type": "code",
      "metadata": {
        "id": "NoEUKjXah6xi",
        "outputId": "7f97d34d-5f09-48e6-925d-b7d2654114bd",
        "colab": {
          "base_uri": "https://localhost:8080/",
          "height": 400
        }
      },
      "source": [
        "from matplotlib import pyplot as plt\n",
        "\n",
        "t_range = torch.arange(20., 90.).unsqueeze(1)\n",
        "\n",
        "fig = plt.figure(dpi=100)\n",
        "plt.xlabel(\"Fahrenheit\")\n",
        "plt.ylabel(\"Celsius\")\n",
        "plt.plot(t_u.numpy(), t_c.numpy(), 'o')\n",
        "plt.plot(t_range.numpy(), seq_model(0.1 * t_range).detach().numpy(), 'c-')\n",
        "plt.plot(t_u.numpy(), seq_model(0.1 * t_u).detach().numpy(), 'kx')"
      ],
      "execution_count": null,
      "outputs": [
        {
          "output_type": "execute_result",
          "data": {
            "text/plain": [
              "[<matplotlib.lines.Line2D at 0x7f60a5823978>]"
            ]
          },
          "metadata": {
            "tags": []
          },
          "execution_count": 10
        },
        {
          "output_type": "display_data",
          "data": {
            "image/png": "[encoded data removed]",
            "text/plain": [
              "<Figure size 600x400 with 1 Axes>"
            ]
          },
          "metadata": {
            "tags": [],
            "needs_background": "light"
          }
        }
      ]
    },
    {
      "cell_type": "markdown",
      "metadata": {
        "id": "42j0zWxYh6xl"
      },
      "source": [
        "### （b）モデルを明らかな過学習の状態にしてみてください\n"
      ]
    },
    {
      "cell_type": "code",
      "metadata": {
        "id": "ky4BEkoAh6xl"
      },
      "source": [
        "# 回答\n"
      ],
      "execution_count": null,
      "outputs": []
    },
    {
      "cell_type": "code",
      "metadata": {
        "id": "kkBZyubKjgki"
      },
      "source": [
        "# ニューラルネットワークの学習をより長く続け、検証データでの性能が上がり切ってからも学習し続けます"
      ],
      "execution_count": null,
      "outputs": []
    },
    {
      "cell_type": "code",
      "metadata": {
        "id": "gTkf4vL5jsIk",
        "outputId": "06478533-99ae-41fe-b4ae-e6802377f85f",
        "colab": {
          "base_uri": "https://localhost:8080/"
        }
      },
      "source": [
        "# モデルの用意\n",
        "hidden_num = 200  # 8を200に\n",
        "\n",
        "seq_model = nn.Sequential(OrderedDict([\n",
        "    ('hidden_linear', nn.Linear(1, hidden_num)),\n",
        "    ('hidden_activation', nn.Tanh()),\n",
        "    ('output_linear', nn.Linear(hidden_num, 1))\n",
        "]))\n",
        "\n",
        "seq_model"
      ],
      "execution_count": null,
      "outputs": [
        {
          "output_type": "execute_result",
          "data": {
            "text/plain": [
              "Sequential(\n",
              "  (hidden_linear): Linear(in_features=1, out_features=200, bias=True)\n",
              "  (hidden_activation): Tanh()\n",
              "  (output_linear): Linear(in_features=200, out_features=1, bias=True)\n",
              ")"
            ]
          },
          "metadata": {
            "tags": []
          },
          "execution_count": 13
        }
      ]
    },
    {
      "cell_type": "code",
      "metadata": {
        "id": "xOHaNI_Zjxgc"
      },
      "source": [
        "# 訓練関数\n",
        "\n",
        "\n",
        "def training_loop(n_epochs, optimizer, model, loss_fn, t_u_train, t_u_val,\n",
        "                  t_c_train, t_c_val):\n",
        "  \n",
        "    for epoch in range(1, n_epochs + 1):\n",
        "        t_p_train = model(t_u_train) # <1>\n",
        "        loss_train = loss_fn(t_p_train, t_c_train)\n",
        "\n",
        "        t_p_val = model(t_u_val) # <1>\n",
        "        loss_val = loss_fn(t_p_val, t_c_val)\n",
        "        \n",
        "        optimizer.zero_grad()\n",
        "        loss_train.backward() # <2>\n",
        "        optimizer.step()\n",
        "\n",
        "        if epoch == 1 or epoch % 1000 == 0:\n",
        "            print(f\"Epoch {epoch}, Training loss {loss_train.item():.4f},\"\n",
        "                  f\" Validation loss {loss_val.item():.4f}\")\n",
        "            "
      ],
      "execution_count": null,
      "outputs": []
    },
    {
      "cell_type": "code",
      "metadata": {
        "id": "SJhEN6Nnj2Al",
        "outputId": "0d54df17-ca67-4163-d590-01b5c9efdd98",
        "colab": {
          "base_uri": "https://localhost:8080/"
        }
      },
      "source": [
        "# 訓練の実施。n_epochsを10倍に 学習率も2倍に\n",
        "optimizer = optim.SGD(seq_model.parameters(), lr=2*1e-3) \n",
        "\n",
        "training_loop(\n",
        "    n_epochs = 5000*10, \n",
        "    optimizer = optimizer,\n",
        "    model = seq_model,\n",
        "    loss_fn = nn.MSELoss(),\n",
        "    t_u_train = t_un_train,\n",
        "    t_u_val = t_un_val, \n",
        "    t_c_train = t_c_train,\n",
        "    t_c_val = t_c_val)"
      ],
      "execution_count": null,
      "outputs": [
        {
          "output_type": "stream",
          "text": [
            "Epoch 1, Training loss 146.7583, Validation loss 404.2481\n",
            "Epoch 1000, Training loss 4.8609, Validation loss 24.2703\n",
            "Epoch 2000, Training loss 3.6937, Validation loss 18.4294\n",
            "Epoch 3000, Training loss 3.1272, Validation loss 15.6529\n",
            "Epoch 4000, Training loss 2.7332, Validation loss 13.8457\n",
            "Epoch 5000, Training loss 2.4594, Validation loss 12.4782\n",
            "Epoch 6000, Training loss 2.2695, Validation loss 11.3593\n",
            "Epoch 7000, Training loss 2.1363, Validation loss 10.4367\n",
            "Epoch 8000, Training loss 2.0404, Validation loss 9.6858\n",
            "Epoch 9000, Training loss 1.9688, Validation loss 9.0801\n",
            "Epoch 10000, Training loss 1.9131, Validation loss 8.5919\n",
            "Epoch 11000, Training loss 1.8683, Validation loss 8.1957\n",
            "Epoch 12000, Training loss 1.8311, Validation loss 7.8705\n",
            "Epoch 13000, Training loss 1.7997, Validation loss 7.6012\n",
            "Epoch 14000, Training loss 1.7726, Validation loss 7.3766\n",
            "Epoch 15000, Training loss 1.7491, Validation loss 7.1886\n",
            "Epoch 16000, Training loss 1.7285, Validation loss 7.0306\n",
            "Epoch 17000, Training loss 1.7104, Validation loss 6.8980\n",
            "Epoch 18000, Training loss 1.6944, Validation loss 6.7865\n",
            "Epoch 19000, Training loss 1.6802, Validation loss 6.6931\n",
            "Epoch 20000, Training loss 1.6675, Validation loss 6.6150\n",
            "Epoch 21000, Training loss 1.6563, Validation loss 6.5500\n",
            "Epoch 22000, Training loss 1.6462, Validation loss 6.4963\n",
            "Epoch 23000, Training loss 1.6372, Validation loss 6.4523\n",
            "Epoch 24000, Training loss 1.6291, Validation loss 6.4166\n",
            "Epoch 25000, Training loss 1.6219, Validation loss 6.3881\n",
            "Epoch 26000, Training loss 1.6154, Validation loss 6.3658\n",
            "Epoch 27000, Training loss 1.6096, Validation loss 6.3488\n",
            "Epoch 28000, Training loss 1.6043, Validation loss 6.3365\n",
            "Epoch 29000, Training loss 1.5996, Validation loss 6.3282\n",
            "Epoch 30000, Training loss 1.5953, Validation loss 6.3232\n",
            "Epoch 31000, Training loss 1.5914, Validation loss 6.3213\n",
            "Epoch 32000, Training loss 1.5879, Validation loss 6.3218\n",
            "Epoch 33000, Training loss 1.5848, Validation loss 6.3246\n",
            "Epoch 34000, Training loss 1.5819, Validation loss 6.3292\n",
            "Epoch 35000, Training loss 1.5793, Validation loss 6.3353\n",
            "Epoch 36000, Training loss 1.5769, Validation loss 6.3428\n",
            "Epoch 37000, Training loss 1.5748, Validation loss 6.3514\n",
            "Epoch 38000, Training loss 1.5728, Validation loss 6.3610\n",
            "Epoch 39000, Training loss 1.5710, Validation loss 6.3714\n",
            "Epoch 40000, Training loss 1.5693, Validation loss 6.3824\n",
            "Epoch 41000, Training loss 1.5678, Validation loss 6.3940\n",
            "Epoch 42000, Training loss 1.5664, Validation loss 6.4061\n",
            "Epoch 43000, Training loss 1.5651, Validation loss 6.4185\n",
            "Epoch 44000, Training loss 1.5639, Validation loss 6.4313\n",
            "Epoch 45000, Training loss 1.5628, Validation loss 6.4442\n",
            "Epoch 46000, Training loss 1.5618, Validation loss 6.4574\n",
            "Epoch 47000, Training loss 1.5608, Validation loss 6.4706\n",
            "Epoch 48000, Training loss 1.5599, Validation loss 6.4840\n",
            "Epoch 49000, Training loss 1.5591, Validation loss 6.4975\n",
            "Epoch 50000, Training loss 1.5583, Validation loss 6.5110\n"
          ],
          "name": "stdout"
        }
      ]
    },
    {
      "cell_type": "code",
      "metadata": {
        "id": "fol_Z515kHpx",
        "outputId": "7bd8e1a9-9d8a-4db6-86ee-4e8e05c87469",
        "colab": {
          "base_uri": "https://localhost:8080/",
          "height": 400
        }
      },
      "source": [
        "# プロット\n",
        "t_range = torch.arange(20., 90.).unsqueeze(1)\n",
        "\n",
        "fig = plt.figure(dpi=100)\n",
        "plt.xlabel(\"Fahrenheit\")\n",
        "plt.ylabel(\"Celsius\")\n",
        "plt.plot(t_u.numpy(), t_c.numpy(), 'o')\n",
        "plt.plot(t_range.numpy(), seq_model(0.1 * t_range).detach().numpy(), 'c-')\n",
        "plt.plot(t_u.numpy(), seq_model(0.1 * t_u).detach().numpy(), 'kx')"
      ],
      "execution_count": null,
      "outputs": [
        {
          "output_type": "execute_result",
          "data": {
            "text/plain": [
              "[<matplotlib.lines.Line2D at 0x7f60a5313b00>]"
            ]
          },
          "metadata": {
            "tags": []
          },
          "execution_count": 16
        },
        {
          "output_type": "display_data",
          "data": {
            "image/png": "[encoded data removed]",
            "text/plain": [
              "<Figure size 600x400 with 1 Axes>"
            ]
          },
          "metadata": {
            "tags": [],
            "needs_background": "light"
          }
        }
      ]
    },
    {
      "cell_type": "code",
      "metadata": {
        "id": "iNSQ_AbHkWjh"
      },
      "source": [
        "# (a)と同じモデルですが訓練のepoch数を増やすことで、訓練データへの損失は下がり続けますが、検証データへの損失は底を打ち上がり始めます。\n",
        "# これは過学習の状態です。結果、プロットした関数も線形性が失われ、非線形性がましています。"
      ],
      "execution_count": null,
      "outputs": []
    },
    {
      "cell_type": "markdown",
      "metadata": {
        "id": "k5opKHNoh6xn"
      },
      "source": [
        "# [2] 物理学で重要な問題は科学的発見成果を祝う際の適切なワインを見つけることです。第4章で使用したワインのデータを読み込み、適切な数の入力パラメータで新しいモデルを作成します。"
      ]
    },
    {
      "cell_type": "markdown",
      "metadata": {
        "id": "187LFwdph6yB"
      },
      "source": [
        "### （a）これまで使ってきた温度データと比較して、訓練にどれくらいの時間がかかるのか試してください"
      ]
    },
    {
      "cell_type": "code",
      "metadata": {
        "id": "IvG7Ijn8ifVw"
      },
      "source": [
        "# 回答"
      ],
      "execution_count": null,
      "outputs": []
    },
    {
      "cell_type": "code",
      "metadata": {
        "id": "9Kmswsekk7-d",
        "outputId": "0fdbf171-8e90-41af-fb33-f1b2bee6d6e7",
        "colab": {
          "resources": {
            "http://localhost:8080/nbextensions/google.colab/files.js": {
              "data": "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",
              "ok": true,
              "headers": [
                [
                  "content-type",
                  "application/javascript"
                ]
              ],
              "status": 200,
              "status_text": ""
            }
          },
          "base_uri": "https://localhost:8080/",
          "height": 201
        }
      },
      "source": [
        "# データセットの読み込み\n",
        "import csv\n",
        "\n",
        "# GitHubのリポジトリから実行の場合\n",
        "#wine_path = \"../data/p1ch4/tabular-wine/winequality-white.csv\"\n",
        "\n",
        "# Google Colaboratoryの場合\n",
        "# /data/p1ch4/tabular-wine/winequality-white.csvを選択・アップロードしてください\n",
        "from google.colab import files\n",
        "uploade = files.upload()\n",
        "\n",
        "wine_path = \"winequality-white.csv\"\n",
        "wineq_numpy = np.loadtxt(wine_path, dtype=np.float32, delimiter=\";\",\n",
        "                         skiprows=1)\n",
        "wineq_numpy"
      ],
      "execution_count": null,
      "outputs": [
        {
          "output_type": "display_data",
          "data": {
            "text/html": [
              "\n",
              "     <input type=\"file\" id=\"files-1d897adb-68bf-476f-beb1-7e119f4656bf\" name=\"files[]\" multiple disabled\n",
              "        style=\"border:none\" />\n",
              "     <output id=\"result-1d897adb-68bf-476f-beb1-7e119f4656bf\">\n",
              "      Upload widget is only available when the cell has been executed in the\n",
              "      current browser session. Please rerun this cell to enable.\n",
              "      </output>\n",
              "      <script src=\"/nbextensions/google.colab/files.js\"></script> "
            ],
            "text/plain": [
              "<IPython.core.display.HTML object>"
            ]
          },
          "metadata": {
            "tags": []
          }
        },
        {
          "output_type": "stream",
          "text": [
            "Saving winequality-white.csv to winequality-white (2).csv\n"
          ],
          "name": "stdout"
        },
        {
          "output_type": "execute_result",
          "data": {
            "text/plain": [
              "array([[ 7.  ,  0.27,  0.36, ...,  0.45,  8.8 ,  6.  ],\n",
              "       [ 6.3 ,  0.3 ,  0.34, ...,  0.49,  9.5 ,  6.  ],\n",
              "       [ 8.1 ,  0.28,  0.4 , ...,  0.44, 10.1 ,  6.  ],\n",
              "       ...,\n",
              "       [ 6.5 ,  0.24,  0.19, ...,  0.46,  9.4 ,  6.  ],\n",
              "       [ 5.5 ,  0.29,  0.3 , ...,  0.38, 12.8 ,  7.  ],\n",
              "       [ 6.  ,  0.21,  0.38, ...,  0.32, 11.8 ,  6.  ]], dtype=float32)"
            ]
          },
          "metadata": {
            "tags": []
          },
          "execution_count": 19
        }
      ]
    },
    {
      "cell_type": "code",
      "metadata": {
        "id": "qtCAalYilSfZ",
        "outputId": "346d613e-3653-4f9f-e179-df3400c8bc31",
        "colab": {
          "base_uri": "https://localhost:8080/"
        }
      },
      "source": [
        "wineq_numpy = np.loadtxt(wine_path, dtype=np.float32, delimiter=\";\",\n",
        "skiprows=1)\n",
        "wineq_numpy.shape"
      ],
      "execution_count": null,
      "outputs": [
        {
          "output_type": "execute_result",
          "data": {
            "text/plain": [
              "(4898, 12)"
            ]
          },
          "metadata": {
            "tags": []
          },
          "execution_count": 20
        }
      ]
    },
    {
      "cell_type": "code",
      "metadata": {
        "id": "c613qo5Qlhlv",
        "outputId": "f46dce6e-69ad-4c64-ea8f-df91b2c4a634",
        "colab": {
          "base_uri": "https://localhost:8080/"
        }
      },
      "source": [
        "# 訓練データと検証データに分割\n",
        "wineq = torch.from_numpy(wineq_numpy)\n",
        "wineq.shape, wineq.dtype"
      ],
      "execution_count": null,
      "outputs": [
        {
          "output_type": "execute_result",
          "data": {
            "text/plain": [
              "(torch.Size([4898, 12]), torch.float32)"
            ]
          },
          "metadata": {
            "tags": []
          },
          "execution_count": 21
        }
      ]
    },
    {
      "cell_type": "code",
      "metadata": {
        "id": "vtS-S-1ulmGJ",
        "outputId": "92156057-1ba4-49a0-8c04-17ebb736e610",
        "colab": {
          "base_uri": "https://localhost:8080/"
        }
      },
      "source": [
        "data = wineq[:, :-1]  # 最後の列以外を選択\n",
        "target_data = wineq[:, -1]\n",
        "\n",
        "print('学習データ', data.shape)\n",
        "print('正解ラベル',target_data.shape)"
      ],
      "execution_count": null,
      "outputs": [
        {
          "output_type": "stream",
          "text": [
            "学習データ torch.Size([4898, 11])\n",
            "正解ラベル torch.Size([4898])\n"
          ],
          "name": "stdout"
        }
      ]
    },
    {
      "cell_type": "code",
      "metadata": {
        "id": "0YQA0xSsl3Aj",
        "outputId": "347732a3-88b0-40a2-ae5f-f0a8288b012d",
        "colab": {
          "base_uri": "https://localhost:8080/"
        }
      },
      "source": [
        "# データを訓練と検証セットに分割\n",
        "\n",
        "n_samples = data.shape[0]\n",
        "n_val = int(0.2 * n_samples)\n",
        "\n",
        "shuffled_indices = torch.randperm(n_samples)\n",
        "\n",
        "train_indices = shuffled_indices[:-n_val]\n",
        "val_indices = shuffled_indices[-n_val:]\n",
        "\n",
        "len(train_indices), len(val_indices)"
      ],
      "execution_count": null,
      "outputs": [
        {
          "output_type": "execute_result",
          "data": {
            "text/plain": [
              "(3919, 979)"
            ]
          },
          "metadata": {
            "tags": []
          },
          "execution_count": 23
        }
      ]
    },
    {
      "cell_type": "code",
      "metadata": {
        "id": "-fvlzvSol7bb"
      },
      "source": [
        "data_train = data[train_indices]\n",
        "target_data_train = target_data[train_indices].unsqueeze(1)  # ミニバッチの次元を作るためにunsqueeze\n",
        "\n",
        "data_val = data[val_indices]\n",
        "target_data_val = target_data[val_indices].unsqueeze(1)  # ミニバッチの次元を作るためにunsqueeze"
      ],
      "execution_count": null,
      "outputs": []
    },
    {
      "cell_type": "code",
      "metadata": {
        "id": "hDV793WVmMCJ",
        "outputId": "e531e81c-dbb5-4bac-9773-b1d0fcbed5f4",
        "colab": {
          "base_uri": "https://localhost:8080/"
        }
      },
      "source": [
        "# モデルの作成\n",
        "hidden_num = 200\n",
        "\n",
        "seq_model = nn.Sequential(OrderedDict([\n",
        "    ('hidden_linear', nn.Linear(11, hidden_num)),\n",
        "    ('hidden_activation', nn.Tanh()),\n",
        "    ('output_linear', nn.Linear(hidden_num, 1))\n",
        "]))\n",
        "\n",
        "seq_model"
      ],
      "execution_count": null,
      "outputs": [
        {
          "output_type": "execute_result",
          "data": {
            "text/plain": [
              "Sequential(\n",
              "  (hidden_linear): Linear(in_features=11, out_features=200, bias=True)\n",
              "  (hidden_activation): Tanh()\n",
              "  (output_linear): Linear(in_features=200, out_features=1, bias=True)\n",
              ")"
            ]
          },
          "metadata": {
            "tags": []
          },
          "execution_count": 25
        }
      ]
    },
    {
      "cell_type": "code",
      "metadata": {
        "id": "cBKJcoOwosXL"
      },
      "source": [
        "# 訓練関数\n",
        "\n",
        "\n",
        "def training_loop(n_epochs, optimizer, model, loss_fn, t_u_train, t_u_val,\n",
        "                  t_c_train, t_c_val):\n",
        "  \n",
        "    for epoch in range(1, n_epochs + 1):\n",
        "        t_p_train = model(t_u_train) # <1>\n",
        "        loss_train = loss_fn(t_p_train, t_c_train)\n",
        "\n",
        "        t_p_val = model(t_u_val) # <1>\n",
        "        loss_val = loss_fn(t_p_val, t_c_val)\n",
        "        \n",
        "        optimizer.zero_grad()\n",
        "        loss_train.backward() # <2>\n",
        "        optimizer.step()\n",
        "\n",
        "        if epoch == 1 or epoch % 1000 == 0:\n",
        "            print(f\"Epoch {epoch}, Training loss {loss_train.item():.4f},\"\n",
        "                  f\" Validation loss {loss_val.item():.4f}\")\n",
        "            "
      ],
      "execution_count": null,
      "outputs": []
    },
    {
      "cell_type": "code",
      "metadata": {
        "id": "SVufgsEios3l",
        "outputId": "00cb1b29-7165-465e-da9b-fd2c0fbf4744",
        "colab": {
          "base_uri": "https://localhost:8080/"
        }
      },
      "source": [
        "# 訓練の実施。\n",
        "optimizer = optim.SGD(seq_model.parameters(), lr=1e-3) \n",
        "\n",
        "training_loop(\n",
        "    n_epochs = 5000*10, \n",
        "    optimizer = optimizer,\n",
        "    model = seq_model,\n",
        "    loss_fn = nn.MSELoss(),\n",
        "    t_u_train = data_train,\n",
        "    t_u_val = data_val, \n",
        "    t_c_train = target_data_train,\n",
        "    t_c_val = target_data_val)"
      ],
      "execution_count": null,
      "outputs": [
        {
          "output_type": "stream",
          "text": [
            "Epoch 1, Training loss 30.7951, Validation loss 30.6439\n",
            "Epoch 1000, Training loss 0.6530, Validation loss 0.6659\n",
            "Epoch 2000, Training loss 0.6283, Validation loss 0.6520\n",
            "Epoch 3000, Training loss 0.6178, Validation loss 0.6501\n",
            "Epoch 4000, Training loss 0.6108, Validation loss 0.6483\n",
            "Epoch 5000, Training loss 0.6054, Validation loss 0.6454\n",
            "Epoch 6000, Training loss 0.6007, Validation loss 0.6417\n",
            "Epoch 7000, Training loss 0.5968, Validation loss 0.6385\n",
            "Epoch 8000, Training loss 0.5938, Validation loss 0.6359\n",
            "Epoch 9000, Training loss 0.5912, Validation loss 0.6333\n",
            "Epoch 10000, Training loss 0.5889, Validation loss 0.6302\n",
            "Epoch 11000, Training loss 0.5868, Validation loss 0.6278\n",
            "Epoch 12000, Training loss 0.5848, Validation loss 0.6257\n",
            "Epoch 13000, Training loss 0.5830, Validation loss 0.6237\n",
            "Epoch 14000, Training loss 0.5813, Validation loss 0.6219\n",
            "Epoch 15000, Training loss 0.5797, Validation loss 0.6201\n",
            "Epoch 16000, Training loss 0.5782, Validation loss 0.6185\n",
            "Epoch 17000, Training loss 0.5770, Validation loss 0.6173\n",
            "Epoch 18000, Training loss 0.5758, Validation loss 0.6162\n",
            "Epoch 19000, Training loss 0.5747, Validation loss 0.6151\n",
            "Epoch 20000, Training loss 0.5736, Validation loss 0.6140\n",
            "Epoch 21000, Training loss 0.5725, Validation loss 0.6131\n",
            "Epoch 22000, Training loss 0.5715, Validation loss 0.6122\n",
            "Epoch 23000, Training loss 0.5706, Validation loss 0.6114\n",
            "Epoch 24000, Training loss 0.5697, Validation loss 0.6106\n",
            "Epoch 25000, Training loss 0.5688, Validation loss 0.6099\n",
            "Epoch 26000, Training loss 0.5679, Validation loss 0.6092\n",
            "Epoch 27000, Training loss 0.5671, Validation loss 0.6086\n",
            "Epoch 28000, Training loss 0.5663, Validation loss 0.6080\n",
            "Epoch 29000, Training loss 0.5656, Validation loss 0.6074\n",
            "Epoch 30000, Training loss 0.5649, Validation loss 0.6069\n",
            "Epoch 31000, Training loss 0.5642, Validation loss 0.6065\n",
            "Epoch 32000, Training loss 0.5635, Validation loss 0.6060\n",
            "Epoch 33000, Training loss 0.5629, Validation loss 0.6056\n",
            "Epoch 34000, Training loss 0.5623, Validation loss 0.6052\n",
            "Epoch 35000, Training loss 0.5617, Validation loss 0.6049\n",
            "Epoch 36000, Training loss 0.5611, Validation loss 0.6046\n",
            "Epoch 37000, Training loss 0.5605, Validation loss 0.6043\n",
            "Epoch 38000, Training loss 0.5600, Validation loss 0.6040\n",
            "Epoch 39000, Training loss 0.5594, Validation loss 0.6037\n",
            "Epoch 40000, Training loss 0.5589, Validation loss 0.6035\n",
            "Epoch 41000, Training loss 0.5584, Validation loss 0.6032\n",
            "Epoch 42000, Training loss 0.5579, Validation loss 0.6030\n",
            "Epoch 43000, Training loss 0.5575, Validation loss 0.6028\n",
            "Epoch 44000, Training loss 0.5570, Validation loss 0.6025\n",
            "Epoch 45000, Training loss 0.5565, Validation loss 0.6023\n",
            "Epoch 46000, Training loss 0.5560, Validation loss 0.6021\n",
            "Epoch 47000, Training loss 0.5555, Validation loss 0.6018\n",
            "Epoch 48000, Training loss 0.5551, Validation loss 0.6016\n",
            "Epoch 49000, Training loss 0.5546, Validation loss 0.6013\n",
            "Epoch 50000, Training loss 0.5541, Validation loss 0.6011\n"
          ],
          "name": "stdout"
        }
      ]
    },
    {
      "cell_type": "markdown",
      "metadata": {
        "id": "tqGF_7j-h6yB"
      },
      "source": [
        "### （b）訓練時間に差が出た理由はなぜでしょうか？"
      ]
    },
    {
      "cell_type": "code",
      "metadata": {
        "id": "-RnP_BIbikPF"
      },
      "source": [
        "# 回答"
      ],
      "execution_count": null,
      "outputs": []
    },
    {
      "cell_type": "code",
      "metadata": {
        "id": "TpJbZxGSilUw"
      },
      "source": [
        "# 入力する特徴量が多いため、モデルの各モジュールのパラメータも増えたため"
      ],
      "execution_count": null,
      "outputs": []
    },
    {
      "cell_type": "markdown",
      "metadata": {
        "id": "6ShKhIqbh6yC"
      },
      "source": [
        "### （c）このデータセットの訓練中に損失を減少させることができることを確認してください"
      ]
    },
    {
      "cell_type": "code",
      "metadata": {
        "id": "DP18o14NisqX"
      },
      "source": [
        "# 回答"
      ],
      "execution_count": null,
      "outputs": []
    },
    {
      "cell_type": "code",
      "metadata": {
        "id": "M-w3SgQdiuX9"
      },
      "source": [
        "# (a) の結果を見ると減少が見て取れる"
      ],
      "execution_count": null,
      "outputs": []
    },
    {
      "cell_type": "markdown",
      "metadata": {
        "id": "1xyU0JBbh6yC"
      },
      "source": [
        "### （d）このデータセットをグラフ化する方法を確認してください"
      ]
    },
    {
      "cell_type": "code",
      "metadata": {
        "id": "4y-f_O5o1cWV"
      },
      "source": [
        "# 回答"
      ],
      "execution_count": null,
      "outputs": []
    },
    {
      "cell_type": "code",
      "metadata": {
        "id": "28A22a5qscWE"
      },
      "source": [
        "# プロット　total sulfur dioxideでプロットしてみる\n",
        "total_sulfur_data = data_train[:,6].numpy()\n"
      ],
      "execution_count": null,
      "outputs": []
    },
    {
      "cell_type": "code",
      "metadata": {
        "id": "vy8595EkrqO7",
        "outputId": "020ef658-ca91-43b9-cc90-1a9edcd2916e",
        "colab": {
          "base_uri": "https://localhost:8080/",
          "height": 400
        }
      },
      "source": [
        "# x軸のレンジ\n",
        "#t_range = torch.arange(total_sulfur_data.min(), total_sulfur_data.max(), step=50).unsqueeze(1)\n",
        "t_range = torch.arange(total_sulfur_data.min(), 250, step=50).unsqueeze(1)\n",
        "\n",
        "\n",
        "fig = plt.figure(dpi=100)\n",
        "plt.xlabel(\"total sulfur dioxide\")\n",
        "plt.ylabel(\"quality\")\n",
        "plt.plot(total_sulfur_data, target_data_train.numpy(), 'o')\n",
        "plt.plot(t_range.numpy(), seq_model(data_train[:t_range.shape[0],:]).detach().numpy(), 'c-')\n",
        "plt.plot(t_range.numpy(), seq_model(data_train[:t_range.shape[0],:]).detach().numpy(), 'kx')"
      ],
      "execution_count": null,
      "outputs": [
        {
          "output_type": "execute_result",
          "data": {
            "text/plain": [
              "[<matplotlib.lines.Line2D at 0x7f60a52637f0>]"
            ]
          },
          "metadata": {
            "tags": []
          },
          "execution_count": 36
        },
        {
          "output_type": "display_data",
          "data": {
            "image/png": "[encoded data removed]",
            "text/plain": [
              "<Figure size 600x400 with 1 Axes>"
            ]
          },
          "metadata": {
            "tags": [],
            "needs_background": "light"
          }
        }
      ]
    },
    {
      "cell_type": "code",
      "metadata": {
        "id": "_Du29EmWtrgM"
      },
      "source": [
        "# モデルが良くないので、プロットしてもうまく学習が完了していないことは分かる\n",
        "# ただ、品質の悪いワインの方が二酸化硫黄の総量（total sulfur dioxide）が多い傾向は見て取れます（第4章と同じ結果）"
      ],
      "execution_count": null,
      "outputs": []
    }
  ]
}