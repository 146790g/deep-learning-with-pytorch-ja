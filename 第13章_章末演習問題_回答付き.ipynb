{
 "cells": [
  {
   "cell_type": "markdown",
   "metadata": {},
   "source": [
    "### 第13章の章末演習問題\n",
    "※ ここではGoogle Colaraboratoryでの実行を想定しています。\n",
    "\n",
    "※ Google Colaraboratoryでbashコマンドを実行するには、命令の前に!をつけます。"
   ]
  },
  {
   "cell_type": "markdown",
   "metadata": {},
   "source": [
    "## [1] 分類モデルのオーギュメンテーションを、本章と同様に個別のモデルとして実装してください"
   ]
  },
  {
   "cell_type": "markdown",
   "metadata": {},
   "source": [
    "この問題では12章の分類モデルを使用します（p2ch13_exercise）。"
   ]
  },
  {
   "cell_type": "markdown",
   "metadata": {},
   "source": [
    "### （a）実装では何らかを妥協しスキップする必要がありましたか。"
   ]
  },
  {
   "cell_type": "markdown",
   "metadata": {},
   "source": [
    "CPUで行っていたオーギュメンテーションをスキップする必要があります"
   ]
  },
  {
   "cell_type": "markdown",
   "metadata": {},
   "source": [
    "### （b）訓練速度はどう変わりましたか。"
   ]
  },
  {
   "cell_type": "markdown",
   "metadata": {},
   "source": [
    "今回の分類モデルは、比較的シンプルかつ前処理もそこまで複雑ではないので、GPUで前処理を行っても訓練速度はほとんど変わりません。"
   ]
  },
  {
   "cell_type": "code",
   "execution_count": 1,
   "metadata": {},
   "outputs": [
    {
     "name": "stderr",
     "output_type": "stream",
     "text": [
      "2021-01-17 08:43:58,402 INFO     pid:22963 p2ch13_exercise.training:148:initModel Using CUDA; 1 devices.\n"
     ]
    }
   ],
   "source": [
    "# p2ch13-exerciseのファイルを使用します\n",
    "from p2ch13_exercise.training import LunaTrainingApp\n",
    "\n",
    "app = LunaTrainingApp([])"
   ]
  },
  {
   "cell_type": "code",
   "execution_count": 2,
   "metadata": {},
   "outputs": [
    {
     "name": "stderr",
     "output_type": "stream",
     "text": [
      "2021-01-17 08:44:01,810 INFO     pid:22963 p2ch13_exercise.training:219:main Starting LunaTrainingApp, Namespace(augment_flip=True, augment_noise=True, augment_offset=True, augment_rotate=True, augment_scale=True, augmented=False, augmented_gpu=False, balanced=False, batch_size=128, comment='dlwpt', epochs=1, num_workers=8, tb_prefix='p2ch13-exercise')\n",
      "2021-01-17 08:44:03,704 INFO     pid:22963 p2ch13_exercise.dsets:290:__init__ <p2ch13_exercise.dsets.LunaDataset object at 0x7fa561950d30>: 99128 training samples, 98879 neg, 249 pos, unbalanced ratio\n",
      "2021-01-17 08:44:03,714 INFO     pid:22963 p2ch13_exercise.dsets:290:__init__ <p2ch13_exercise.dsets.LunaDataset object at 0x7fa5d95e9748>: 11015 validation samples, 10987 neg, 28 pos, unbalanced ratio\n",
      "2021-01-17 08:44:03,715 INFO     pid:22963 p2ch13_exercise.training:233:main Epoch 1 of 1, 775/87 batches of size 128*1\n",
      "2021-01-17 08:44:03,717 WARNING  pid:22963 util.util:221:enumerateWithEstimate E1 Training ----/775, starting\n"
     ]
    },
    {
     "name": "stdout",
     "output_type": "stream",
     "text": [
      "======train len\n",
      "99128\n",
      "======val len\n",
      "11015\n"
     ]
    },
    {
     "name": "stderr",
     "output_type": "stream",
     "text": [
      "2021-01-17 08:44:38,183 INFO     pid:22963 util.util:241:enumerateWithEstimate E1 Training   64/775, done at 2021-01-17 08:50:27, 0:06:17\n",
      "2021-01-17 08:46:14,340 INFO     pid:22963 util.util:241:enumerateWithEstimate E1 Training  256/775, done at 2021-01-17 08:50:32, 0:06:22\n",
      "2021-01-17 08:50:44,905 WARNING  pid:22963 util.util:252:enumerateWithEstimate E1 Training ----/775, done at 2021-01-17 08:50:44\n",
      "2021-01-17 08:50:46,629 INFO     pid:22963 p2ch13_exercise.training:342:logMetrics E1 LunaTrainingApp\n",
      "/home/ubuntu/work/deep-learning-with-pytorch-ja/p2ch13_exercise/training.py:379: RuntimeWarning: invalid value encountered in double_scalars\n",
      "  metrics_dict[\"pr/f1_score\"] = 2 * (precision * recall) / (precision + recall)\n",
      "2021-01-17 08:50:46,722 INFO     pid:22963 p2ch13_exercise.training:391:logMetrics E1 trn      0.0306 loss,  99.6% correct, 0.0000 precision, 0.0000 recall, nan f1 score\n",
      "2021-01-17 08:50:46,722 INFO     pid:22963 p2ch13_exercise.training:403:logMetrics E1 trn_neg  0.0044 loss,  99.9% correct (98779 of 98879)\n",
      "2021-01-17 08:50:46,723 INFO     pid:22963 p2ch13_exercise.training:415:logMetrics E1 trn_pos  10.4323 loss,   0.0% correct (0 of 249)\n",
      "2021-01-17 08:50:46,765 WARNING  pid:22963 util.util:221:enumerateWithEstimate E1 Validation  ----/87, starting\n",
      "2021-01-17 08:50:50,790 INFO     pid:22963 util.util:241:enumerateWithEstimate E1 Validation    16/87, done at 2021-01-17 08:51:12, 0:00:24\n",
      "2021-01-17 08:50:53,751 INFO     pid:22963 util.util:241:enumerateWithEstimate E1 Validation    32/87, done at 2021-01-17 08:51:06, 0:00:18\n",
      "2021-01-17 08:50:59,675 INFO     pid:22963 util.util:241:enumerateWithEstimate E1 Validation    64/87, done at 2021-01-17 08:51:04, 0:00:16\n",
      "2021-01-17 08:51:02,252 WARNING  pid:22963 util.util:252:enumerateWithEstimate E1 Validation  ----/87, done at 2021-01-17 08:51:02\n",
      "2021-01-17 08:51:03,311 INFO     pid:22963 p2ch13_exercise.training:342:logMetrics E1 LunaTrainingApp\n",
      "/home/ubuntu/work/deep-learning-with-pytorch-ja/p2ch13_exercise/training.py:373: RuntimeWarning: invalid value encountered in true_divide\n",
      "  truePos_count + falsePos_count\n",
      "2021-01-17 08:51:03,313 INFO     pid:22963 p2ch13_exercise.training:391:logMetrics E1 val      0.0183 loss,  99.7% correct, nan precision, 0.0000 recall, nan f1 score\n",
      "2021-01-17 08:51:03,313 INFO     pid:22963 p2ch13_exercise.training:403:logMetrics E1 val_neg  0.0012 loss, 100.0% correct (10987 of 10987)\n",
      "2021-01-17 08:51:03,314 INFO     pid:22963 p2ch13_exercise.training:415:logMetrics E1 val_pos  6.7466 loss,   0.0% correct (0 of 28)\n"
     ]
    },
    {
     "name": "stdout",
     "output_type": "stream",
     "text": [
      "CPU times: user 4min 19s, sys: 2min 22s, total: 6min 41s\n",
      "Wall time: 7min 1s\n"
     ]
    }
   ],
   "source": [
    "%%time\n",
    "app.main()"
   ]
  },
  {
   "cell_type": "code",
   "execution_count": 3,
   "metadata": {},
   "outputs": [
    {
     "name": "stderr",
     "output_type": "stream",
     "text": [
      "2021-01-17 08:54:45,061 INFO     pid:22963 p2ch13_exercise.training:148:initModel Using CUDA; 1 devices.\n",
      "2021-01-17 08:54:45,066 INFO     pid:22963 p2ch13_exercise.training:219:main Starting LunaTrainingApp, Namespace(augment_flip=True, augment_noise=True, augment_offset=True, augment_rotate=True, augment_scale=True, augmented=False, augmented_gpu=True, balanced=False, batch_size=128, comment='dlwpt', epochs=1, num_workers=8, tb_prefix='p2ch13-exercise')\n",
      "2021-01-17 08:54:45,155 INFO     pid:22963 p2ch13_exercise.dsets:290:__init__ <p2ch13_exercise.dsets.LunaDataset object at 0x7fa5d9e3c128>: 99128 training samples, 98879 neg, 249 pos, unbalanced ratio\n",
      "2021-01-17 08:54:45,166 INFO     pid:22963 p2ch13_exercise.dsets:290:__init__ <p2ch13_exercise.dsets.LunaDataset object at 0x7fa5dec4d048>: 11015 validation samples, 10987 neg, 28 pos, unbalanced ratio\n",
      "2021-01-17 08:54:45,166 INFO     pid:22963 p2ch13_exercise.training:233:main Epoch 1 of 1, 775/87 batches of size 128*1\n",
      "2021-01-17 08:54:45,167 WARNING  pid:22963 util.util:221:enumerateWithEstimate E1 Training ----/775, starting\n"
     ]
    },
    {
     "name": "stdout",
     "output_type": "stream",
     "text": [
      "======train len\n",
      "99128\n",
      "======val len\n",
      "11015\n"
     ]
    },
    {
     "name": "stderr",
     "output_type": "stream",
     "text": [
      "2021-01-17 08:55:18,929 INFO     pid:22963 util.util:241:enumerateWithEstimate E1 Training   64/775, done at 2021-01-17 09:01:19, 0:06:29\n",
      "2021-01-17 08:56:58,943 INFO     pid:22963 util.util:241:enumerateWithEstimate E1 Training  256/775, done at 2021-01-17 09:01:27, 0:06:37\n",
      "2021-01-17 09:01:38,747 WARNING  pid:22963 util.util:252:enumerateWithEstimate E1 Training ----/775, done at 2021-01-17 09:01:38\n",
      "2021-01-17 09:01:38,853 INFO     pid:22963 p2ch13_exercise.training:342:logMetrics E1 LunaTrainingApp\n",
      "2021-01-17 09:01:38,903 INFO     pid:22963 p2ch13_exercise.training:391:logMetrics E1 trn      0.0198 loss,  99.7% correct, 0.0000 precision, 0.0000 recall, nan f1 score\n",
      "2021-01-17 09:01:38,904 INFO     pid:22963 p2ch13_exercise.training:403:logMetrics E1 trn_neg  0.0027 loss, 100.0% correct (98876 of 98879)\n",
      "2021-01-17 09:01:38,905 INFO     pid:22963 p2ch13_exercise.training:415:logMetrics E1 trn_pos  6.8212 loss,   0.0% correct (0 of 249)\n",
      "2021-01-17 09:01:38,947 WARNING  pid:22963 util.util:221:enumerateWithEstimate E1 Validation  ----/87, starting\n",
      "2021-01-17 09:01:43,067 INFO     pid:22963 util.util:241:enumerateWithEstimate E1 Validation    16/87, done at 2021-01-17 09:02:05, 0:00:25\n",
      "2021-01-17 09:01:46,068 INFO     pid:22963 util.util:241:enumerateWithEstimate E1 Validation    32/87, done at 2021-01-17 09:01:58, 0:00:18\n",
      "2021-01-17 09:01:52,524 INFO     pid:22963 util.util:241:enumerateWithEstimate E1 Validation    64/87, done at 2021-01-17 09:01:57, 0:00:17\n",
      "2021-01-17 09:01:55,294 WARNING  pid:22963 util.util:252:enumerateWithEstimate E1 Validation  ----/87, done at 2021-01-17 09:01:55\n",
      "2021-01-17 09:01:56,256 INFO     pid:22963 p2ch13_exercise.training:342:logMetrics E1 LunaTrainingApp\n",
      "2021-01-17 09:01:56,258 INFO     pid:22963 p2ch13_exercise.training:391:logMetrics E1 val      0.0179 loss,  99.7% correct, nan precision, 0.0000 recall, nan f1 score\n",
      "2021-01-17 09:01:56,258 INFO     pid:22963 p2ch13_exercise.training:403:logMetrics E1 val_neg  0.0036 loss, 100.0% correct (10987 of 10987)\n",
      "2021-01-17 09:01:56,259 INFO     pid:22963 p2ch13_exercise.training:415:logMetrics E1 val_pos  5.6315 loss,   0.0% correct (0 of 28)\n"
     ]
    },
    {
     "name": "stdout",
     "output_type": "stream",
     "text": [
      "CPU times: user 6min 59s, sys: 6.79 s, total: 7min 6s\n",
      "Wall time: 7min 11s\n"
     ]
    }
   ],
   "source": [
    "%%time\n",
    "app = LunaTrainingApp([\"--augmented-gpu\"])\n",
    "app.main()"
   ]
  },
  {
   "cell_type": "markdown",
   "metadata": {},
   "source": [
    "## [2] セグメンテーションのDatasetの実装を変更して訓練、検証、テストセットの3つに分割できるようにしてください"
   ]
  },
  {
   "cell_type": "code",
   "execution_count": 1,
   "metadata": {},
   "outputs": [],
   "source": [
    "# p2ch13_exercise2のファイルを使用します\n",
    "from p2ch13_exercise2.training import SegmentationTrainingApp"
   ]
  },
  {
   "cell_type": "markdown",
   "metadata": {},
   "source": [
    "### （a）テストセットにはデータのどれくらいの割合を使いましたか。"
   ]
  },
  {
   "cell_type": "markdown",
   "metadata": {},
   "source": [
    "今回は、訓練：（検証＋テスト）を8:2に分けたのち、検証とテストををそれぞれ1：1になるように分けました。"
   ]
  },
  {
   "cell_type": "markdown",
   "metadata": {},
   "source": [
    "### （b）テストセットに対する性能と検証セットに対する性能は同程度でしたか。"
   ]
  },
  {
   "cell_type": "markdown",
   "metadata": {},
   "source": [
    "ほぼ同程度となる\n",
    "（※ 実行条件による）"
   ]
  },
  {
   "cell_type": "code",
   "execution_count": 3,
   "metadata": {},
   "outputs": [
    {
     "name": "stderr",
     "output_type": "stream",
     "text": [
      "2021-01-24 11:34:40,653 INFO     pid:11667 p2ch13_exercise2.training:165:initModel Using CUDA; 1 devices.\n"
     ]
    },
    {
     "ename": "KeyboardInterrupt",
     "evalue": "",
     "output_type": "error",
     "traceback": [
      "\u001b[0;31m---------------------------------------------------------------------------\u001b[0m",
      "\u001b[0;31mKeyboardInterrupt\u001b[0m                         Traceback (most recent call last)",
      "\u001b[0;32m<ipython-input-3-e25f0ebb3140>\u001b[0m in \u001b[0;36m<module>\u001b[0;34m\u001b[0m\n\u001b[0;32m----> 1\u001b[0;31m \u001b[0mapp\u001b[0m \u001b[0;34m=\u001b[0m \u001b[0mSegmentationTrainingApp\u001b[0m\u001b[0;34m(\u001b[0m\u001b[0;34m[\u001b[0m\u001b[0;34m]\u001b[0m\u001b[0;34m)\u001b[0m\u001b[0;34m\u001b[0m\u001b[0;34m\u001b[0m\u001b[0m\n\u001b[0m\u001b[1;32m      2\u001b[0m \u001b[0mapp\u001b[0m\u001b[0;34m.\u001b[0m\u001b[0mmain\u001b[0m\u001b[0;34m(\u001b[0m\u001b[0;34m)\u001b[0m\u001b[0;34m\u001b[0m\u001b[0;34m\u001b[0m\u001b[0m\n",
      "\u001b[0;32m~/work/deep-learning-with-pytorch-ja/p2ch13_exercise2/training.py\u001b[0m in \u001b[0;36m__init__\u001b[0;34m(self, sys_argv)\u001b[0m\n\u001b[1;32m    146\u001b[0m         \u001b[0mself\u001b[0m\u001b[0;34m.\u001b[0m\u001b[0mdevice\u001b[0m \u001b[0;34m=\u001b[0m \u001b[0mtorch\u001b[0m\u001b[0;34m.\u001b[0m\u001b[0mdevice\u001b[0m\u001b[0;34m(\u001b[0m\u001b[0;34m\"cuda\"\u001b[0m \u001b[0;32mif\u001b[0m \u001b[0mself\u001b[0m\u001b[0;34m.\u001b[0m\u001b[0muse_cuda\u001b[0m \u001b[0;32melse\u001b[0m \u001b[0;34m\"cpu\"\u001b[0m\u001b[0;34m)\u001b[0m\u001b[0;34m\u001b[0m\u001b[0;34m\u001b[0m\u001b[0m\n\u001b[1;32m    147\u001b[0m \u001b[0;34m\u001b[0m\u001b[0m\n\u001b[0;32m--> 148\u001b[0;31m         \u001b[0mself\u001b[0m\u001b[0;34m.\u001b[0m\u001b[0msegmentation_model\u001b[0m\u001b[0;34m,\u001b[0m \u001b[0mself\u001b[0m\u001b[0;34m.\u001b[0m\u001b[0maugmentation_model\u001b[0m \u001b[0;34m=\u001b[0m \u001b[0mself\u001b[0m\u001b[0;34m.\u001b[0m\u001b[0minitModel\u001b[0m\u001b[0;34m(\u001b[0m\u001b[0;34m)\u001b[0m\u001b[0;34m\u001b[0m\u001b[0;34m\u001b[0m\u001b[0m\n\u001b[0m\u001b[1;32m    149\u001b[0m         \u001b[0mself\u001b[0m\u001b[0;34m.\u001b[0m\u001b[0moptimizer\u001b[0m \u001b[0;34m=\u001b[0m \u001b[0mself\u001b[0m\u001b[0;34m.\u001b[0m\u001b[0minitOptimizer\u001b[0m\u001b[0;34m(\u001b[0m\u001b[0;34m)\u001b[0m\u001b[0;34m\u001b[0m\u001b[0;34m\u001b[0m\u001b[0m\n\u001b[1;32m    150\u001b[0m \u001b[0;34m\u001b[0m\u001b[0m\n",
      "\u001b[0;32m~/work/deep-learning-with-pytorch-ja/p2ch13_exercise2/training.py\u001b[0m in \u001b[0;36minitModel\u001b[0;34m(self)\u001b[0m\n\u001b[1;32m    167\u001b[0m                 \u001b[0msegmentation_model\u001b[0m \u001b[0;34m=\u001b[0m \u001b[0mnn\u001b[0m\u001b[0;34m.\u001b[0m\u001b[0mDataParallel\u001b[0m\u001b[0;34m(\u001b[0m\u001b[0msegmentation_model\u001b[0m\u001b[0;34m)\u001b[0m\u001b[0;34m\u001b[0m\u001b[0;34m\u001b[0m\u001b[0m\n\u001b[1;32m    168\u001b[0m                 \u001b[0maugmentation_model\u001b[0m \u001b[0;34m=\u001b[0m \u001b[0mnn\u001b[0m\u001b[0;34m.\u001b[0m\u001b[0mDataParallel\u001b[0m\u001b[0;34m(\u001b[0m\u001b[0maugmentation_model\u001b[0m\u001b[0;34m)\u001b[0m\u001b[0;34m\u001b[0m\u001b[0;34m\u001b[0m\u001b[0m\n\u001b[0;32m--> 169\u001b[0;31m             \u001b[0msegmentation_model\u001b[0m \u001b[0;34m=\u001b[0m \u001b[0msegmentation_model\u001b[0m\u001b[0;34m.\u001b[0m\u001b[0mto\u001b[0m\u001b[0;34m(\u001b[0m\u001b[0mself\u001b[0m\u001b[0;34m.\u001b[0m\u001b[0mdevice\u001b[0m\u001b[0;34m)\u001b[0m\u001b[0;34m\u001b[0m\u001b[0;34m\u001b[0m\u001b[0m\n\u001b[0m\u001b[1;32m    170\u001b[0m             \u001b[0maugmentation_model\u001b[0m \u001b[0;34m=\u001b[0m \u001b[0maugmentation_model\u001b[0m\u001b[0;34m.\u001b[0m\u001b[0mto\u001b[0m\u001b[0;34m(\u001b[0m\u001b[0mself\u001b[0m\u001b[0;34m.\u001b[0m\u001b[0mdevice\u001b[0m\u001b[0;34m)\u001b[0m\u001b[0;34m\u001b[0m\u001b[0;34m\u001b[0m\u001b[0m\n\u001b[1;32m    171\u001b[0m \u001b[0;34m\u001b[0m\u001b[0m\n",
      "\u001b[0;32m/anaconda/envs/azureml_py36_pytorch/lib/python3.6/site-packages/torch/nn/modules/module.py\u001b[0m in \u001b[0;36mto\u001b[0;34m(self, *args, **kwargs)\u001b[0m\n\u001b[1;32m    423\u001b[0m             \u001b[0;32mreturn\u001b[0m \u001b[0mt\u001b[0m\u001b[0;34m.\u001b[0m\u001b[0mto\u001b[0m\u001b[0;34m(\u001b[0m\u001b[0mdevice\u001b[0m\u001b[0;34m,\u001b[0m \u001b[0mdtype\u001b[0m \u001b[0;32mif\u001b[0m \u001b[0mt\u001b[0m\u001b[0;34m.\u001b[0m\u001b[0mis_floating_point\u001b[0m\u001b[0;34m(\u001b[0m\u001b[0;34m)\u001b[0m \u001b[0;32melse\u001b[0m \u001b[0;32mNone\u001b[0m\u001b[0;34m,\u001b[0m \u001b[0mnon_blocking\u001b[0m\u001b[0;34m)\u001b[0m\u001b[0;34m\u001b[0m\u001b[0;34m\u001b[0m\u001b[0m\n\u001b[1;32m    424\u001b[0m \u001b[0;34m\u001b[0m\u001b[0m\n\u001b[0;32m--> 425\u001b[0;31m         \u001b[0;32mreturn\u001b[0m \u001b[0mself\u001b[0m\u001b[0;34m.\u001b[0m\u001b[0m_apply\u001b[0m\u001b[0;34m(\u001b[0m\u001b[0mconvert\u001b[0m\u001b[0;34m)\u001b[0m\u001b[0;34m\u001b[0m\u001b[0;34m\u001b[0m\u001b[0m\n\u001b[0m\u001b[1;32m    426\u001b[0m \u001b[0;34m\u001b[0m\u001b[0m\n\u001b[1;32m    427\u001b[0m     \u001b[0;32mdef\u001b[0m \u001b[0mregister_backward_hook\u001b[0m\u001b[0;34m(\u001b[0m\u001b[0mself\u001b[0m\u001b[0;34m,\u001b[0m \u001b[0mhook\u001b[0m\u001b[0;34m)\u001b[0m\u001b[0;34m:\u001b[0m\u001b[0;34m\u001b[0m\u001b[0;34m\u001b[0m\u001b[0m\n",
      "\u001b[0;32m/anaconda/envs/azureml_py36_pytorch/lib/python3.6/site-packages/torch/nn/modules/module.py\u001b[0m in \u001b[0;36m_apply\u001b[0;34m(self, fn)\u001b[0m\n\u001b[1;32m    199\u001b[0m     \u001b[0;32mdef\u001b[0m \u001b[0m_apply\u001b[0m\u001b[0;34m(\u001b[0m\u001b[0mself\u001b[0m\u001b[0;34m,\u001b[0m \u001b[0mfn\u001b[0m\u001b[0;34m)\u001b[0m\u001b[0;34m:\u001b[0m\u001b[0;34m\u001b[0m\u001b[0;34m\u001b[0m\u001b[0m\n\u001b[1;32m    200\u001b[0m         \u001b[0;32mfor\u001b[0m \u001b[0mmodule\u001b[0m \u001b[0;32min\u001b[0m \u001b[0mself\u001b[0m\u001b[0;34m.\u001b[0m\u001b[0mchildren\u001b[0m\u001b[0;34m(\u001b[0m\u001b[0;34m)\u001b[0m\u001b[0;34m:\u001b[0m\u001b[0;34m\u001b[0m\u001b[0;34m\u001b[0m\u001b[0m\n\u001b[0;32m--> 201\u001b[0;31m             \u001b[0mmodule\u001b[0m\u001b[0;34m.\u001b[0m\u001b[0m_apply\u001b[0m\u001b[0;34m(\u001b[0m\u001b[0mfn\u001b[0m\u001b[0;34m)\u001b[0m\u001b[0;34m\u001b[0m\u001b[0;34m\u001b[0m\u001b[0m\n\u001b[0m\u001b[1;32m    202\u001b[0m \u001b[0;34m\u001b[0m\u001b[0m\n\u001b[1;32m    203\u001b[0m         \u001b[0;32mdef\u001b[0m \u001b[0mcompute_should_use_set_data\u001b[0m\u001b[0;34m(\u001b[0m\u001b[0mtensor\u001b[0m\u001b[0;34m,\u001b[0m \u001b[0mtensor_applied\u001b[0m\u001b[0;34m)\u001b[0m\u001b[0;34m:\u001b[0m\u001b[0;34m\u001b[0m\u001b[0;34m\u001b[0m\u001b[0m\n",
      "\u001b[0;32m/anaconda/envs/azureml_py36_pytorch/lib/python3.6/site-packages/torch/nn/modules/module.py\u001b[0m in \u001b[0;36m_apply\u001b[0;34m(self, fn)\u001b[0m\n\u001b[1;32m    221\u001b[0m                 \u001b[0;31m# `with torch.no_grad():`\u001b[0m\u001b[0;34m\u001b[0m\u001b[0;34m\u001b[0m\u001b[0;34m\u001b[0m\u001b[0m\n\u001b[1;32m    222\u001b[0m                 \u001b[0;32mwith\u001b[0m \u001b[0mtorch\u001b[0m\u001b[0;34m.\u001b[0m\u001b[0mno_grad\u001b[0m\u001b[0;34m(\u001b[0m\u001b[0;34m)\u001b[0m\u001b[0;34m:\u001b[0m\u001b[0;34m\u001b[0m\u001b[0;34m\u001b[0m\u001b[0m\n\u001b[0;32m--> 223\u001b[0;31m                     \u001b[0mparam_applied\u001b[0m \u001b[0;34m=\u001b[0m \u001b[0mfn\u001b[0m\u001b[0;34m(\u001b[0m\u001b[0mparam\u001b[0m\u001b[0;34m)\u001b[0m\u001b[0;34m\u001b[0m\u001b[0;34m\u001b[0m\u001b[0m\n\u001b[0m\u001b[1;32m    224\u001b[0m                 \u001b[0mshould_use_set_data\u001b[0m \u001b[0;34m=\u001b[0m \u001b[0mcompute_should_use_set_data\u001b[0m\u001b[0;34m(\u001b[0m\u001b[0mparam\u001b[0m\u001b[0;34m,\u001b[0m \u001b[0mparam_applied\u001b[0m\u001b[0;34m)\u001b[0m\u001b[0;34m\u001b[0m\u001b[0;34m\u001b[0m\u001b[0m\n\u001b[1;32m    225\u001b[0m                 \u001b[0;32mif\u001b[0m \u001b[0mshould_use_set_data\u001b[0m\u001b[0;34m:\u001b[0m\u001b[0;34m\u001b[0m\u001b[0;34m\u001b[0m\u001b[0m\n",
      "\u001b[0;32m/anaconda/envs/azureml_py36_pytorch/lib/python3.6/site-packages/torch/nn/modules/module.py\u001b[0m in \u001b[0;36mconvert\u001b[0;34m(t)\u001b[0m\n\u001b[1;32m    421\u001b[0m \u001b[0;34m\u001b[0m\u001b[0m\n\u001b[1;32m    422\u001b[0m         \u001b[0;32mdef\u001b[0m \u001b[0mconvert\u001b[0m\u001b[0;34m(\u001b[0m\u001b[0mt\u001b[0m\u001b[0;34m)\u001b[0m\u001b[0;34m:\u001b[0m\u001b[0;34m\u001b[0m\u001b[0;34m\u001b[0m\u001b[0m\n\u001b[0;32m--> 423\u001b[0;31m             \u001b[0;32mreturn\u001b[0m \u001b[0mt\u001b[0m\u001b[0;34m.\u001b[0m\u001b[0mto\u001b[0m\u001b[0;34m(\u001b[0m\u001b[0mdevice\u001b[0m\u001b[0;34m,\u001b[0m \u001b[0mdtype\u001b[0m \u001b[0;32mif\u001b[0m \u001b[0mt\u001b[0m\u001b[0;34m.\u001b[0m\u001b[0mis_floating_point\u001b[0m\u001b[0;34m(\u001b[0m\u001b[0;34m)\u001b[0m \u001b[0;32melse\u001b[0m \u001b[0;32mNone\u001b[0m\u001b[0;34m,\u001b[0m \u001b[0mnon_blocking\u001b[0m\u001b[0;34m)\u001b[0m\u001b[0;34m\u001b[0m\u001b[0;34m\u001b[0m\u001b[0m\n\u001b[0m\u001b[1;32m    424\u001b[0m \u001b[0;34m\u001b[0m\u001b[0m\n\u001b[1;32m    425\u001b[0m         \u001b[0;32mreturn\u001b[0m \u001b[0mself\u001b[0m\u001b[0;34m.\u001b[0m\u001b[0m_apply\u001b[0m\u001b[0;34m(\u001b[0m\u001b[0mconvert\u001b[0m\u001b[0;34m)\u001b[0m\u001b[0;34m\u001b[0m\u001b[0;34m\u001b[0m\u001b[0m\n",
      "\u001b[0;31mKeyboardInterrupt\u001b[0m: "
     ]
    }
   ],
   "source": [
    "app = SegmentationTrainingApp([])\n",
    "app.main()"
   ]
  },
  {
   "cell_type": "code",
   "execution_count": null,
   "metadata": {},
   "outputs": [],
   "source": [
    "app = SegmentationTrainingApp([\"--doTest\"])\n",
    "app.main()"
   ]
  },
  {
   "cell_type": "markdown",
   "metadata": {},
   "source": [
    "### （c）訓練サンプル数を減らすと、訓練結果はどの程度悪くなりましたか。"
   ]
  },
  {
   "cell_type": "code",
   "execution_count": null,
   "metadata": {},
   "outputs": [],
   "source": [
    "（a）の割合で分けた場合、訓練結果のlossは0.02、tpは0.3%ほど劣化した。\\\n",
    "（分ける割合によって値は変わります）"
   ]
  },
  {
   "cell_type": "markdown",
   "metadata": {},
   "source": [
    "## [3] 結節・非結節を見分けるだけでなく、悪性結節が良性結節かも見分けるセグメンテーションモデルを作成してください"
   ]
  },
  {
   "cell_type": "code",
   "execution_count": 13,
   "metadata": {},
   "outputs": [],
   "source": [
    "%matplotlib inline\n",
    "import matplotlib.pyplot as plt\n",
    "\n",
    "from random import shuffle\n",
    "import glob\n",
    "from tqdm import tqdm\n",
    "import torch\n",
    "import numpy as np\n",
    "import pandas as pd\n",
    "import seaborn as sns\n",
    "from operator import attrgetter\n",
    "import scipy.ndimage.measurements as measurements\n",
    "import scipy.ndimage.morphology as morphology\n",
    "from p2ch13_exercise3.model import UNetWrapper, SegmentationAugmentation\n",
    "from p2ch13_exercise3.dsets import getCandidateInfoList, getCt, TrainingLuna2dSegmentationDataset, CandidateInfoTuple, Luna2dSegmentationDataset\n",
    "from util.util import xyz2irc, irc2xyz"
   ]
  },
  {
   "cell_type": "code",
   "execution_count": 2,
   "metadata": {},
   "outputs": [],
   "source": [
    "BATCH_SIZE=32\n",
    "N_EPOCHS = 1"
   ]
  },
  {
   "cell_type": "code",
   "execution_count": 3,
   "metadata": {},
   "outputs": [],
   "source": [
    "# data-unversioned/part2/luna配下に存在するデータのみを今回の処理の対象にする。\n",
    "series_uid = glob.glob('data-unversioned/part2/luna/subset0/*.mhd')\n",
    "series_uid = list(map(lambda x: x[x.rfind('/')+1:-4], series_uid))\n",
    "segmentation_train_series_uid = series_uid[0:15]\n",
    "segmentation_valid_series_uid = [series_uid[15:20]]\n",
    "classification_train_series_uid = series_uid[20:35]\n",
    "classification_valid_series_uid = series_uid[35:40]"
   ]
  },
  {
   "cell_type": "code",
   "execution_count": 4,
   "metadata": {},
   "outputs": [],
   "source": [
    "def getDataloader(series_uid:str)->torch.utils.data.DataLoader:\n",
    "    ds = TrainingLuna2dSegmentationDataset(\n",
    "            val_stride=0,\n",
    "            isValSet_bool=False,\n",
    "            contextSlices_count=3,\n",
    "            series_uid=series_uid\n",
    "    )\n",
    "    return  torch.utils.data.DataLoader(\n",
    "        ds,\n",
    "        batch_size=BATCH_SIZE,\n",
    "        num_workers=8,\n",
    "        pin_memory=False)\n",
    "\n",
    "def doTraining(model:torch.nn.Module, optimizer:torch.optim.Optimizer, epoch_ndx:int, train_dl:torch.utils.data.DataLoader)->torch.Tensor:\n",
    "        trnMetrics_g = torch.zeros(METRICS_SIZE, len(train_dl.dataset), device='cuda')\n",
    "        model.train()\n",
    "        train_dl.dataset.shuffleSamples()\n",
    "        bar = tqdm(train_dl)\n",
    "        for batch_ndx, batch_tup in enumerate(bar):\n",
    "            optimizer.zero_grad()\n",
    "\n",
    "            loss_var = computeBatchLoss(model, batch_ndx, batch_tup, train_dl.batch_size, trnMetrics_g)\n",
    "            loss_var.backward()\n",
    "\n",
    "            optimizer.step()\n",
    "            bar.set_description('loss: %.5f' % loss_var.item())\n",
    "\n",
    "        return trnMetrics_g.to('cpu')\n",
    "\n",
    "def doValidation(model:torch.nn.Module, epoch_ndx, val_dl)->torch.Tensor:\n",
    "    bar = tqdm(val_dl)\n",
    "    with torch.no_grad():\n",
    "        valMetrics_g = torch.zeros(METRICS_SIZE, len(val_dl.dataset), device='cuda')\n",
    "        model.eval()\n",
    "\n",
    "        for batch_ndx, batch_tup in enumerate(bar):\n",
    "            computeBatchLoss(model, batch_ndx, batch_tup, val_dl.batch_size, valMetrics_g)\n",
    "\n",
    "    return valMetrics_g.to('cpu')\n",
    "\n",
    "def computeBatchLoss(segmentation_model:torch.nn.Module, batch_ndx:int, batch_tup:tuple, batch_size:int, metrics_g:torch.Tensor,\n",
    "                        classificationThreshold:float=0.5)->torch.Tensor:\n",
    "    input_t, label_t, series_list, _slice_ndx_list = batch_tup\n",
    "\n",
    "    input_g = input_t.to('cuda', non_blocking=True)\n",
    "    label_g = label_t.to('cuda', non_blocking=True)\n",
    "\n",
    "    prediction_g = segmentation_model(input_g)\n",
    "\n",
    "    diceLoss_g = diceLoss(prediction_g, label_g)\n",
    "    fnLoss_g = diceLoss(prediction_g * label_g, label_g)\n",
    "\n",
    "    start_ndx = batch_ndx * batch_size\n",
    "    end_ndx = start_ndx + input_t.size(0)\n",
    "\n",
    "    with torch.no_grad():\n",
    "        predictionBool_g = (prediction_g[:, 0:1]\n",
    "                            > classificationThreshold).to(torch.float32)\n",
    "\n",
    "        tp = (     predictionBool_g *  label_g).sum(dim=[1,2,3])\n",
    "        fn = ((1 - predictionBool_g) *  label_g).sum(dim=[1,2,3])\n",
    "        fp = (     predictionBool_g * (~label_g)).sum(dim=[1,2,3])\n",
    "\n",
    "        metrics_g[METRICS_LOSS_NDX, start_ndx:end_ndx] = diceLoss_g\n",
    "        metrics_g[METRICS_TP_NDX, start_ndx:end_ndx] = tp\n",
    "        metrics_g[METRICS_FN_NDX, start_ndx:end_ndx] = fn\n",
    "        metrics_g[METRICS_FP_NDX, start_ndx:end_ndx] = fp\n",
    "\n",
    "    return diceLoss_g.mean() + fnLoss_g.mean() * 8\n",
    "\n",
    "def diceLoss(prediction_g, label_g, epsilon=1):\n",
    "    diceLabel_g = label_g.sum(dim=[1,2,3])\n",
    "    dicePrediction_g = prediction_g.sum(dim=[1,2,3])\n",
    "    diceCorrect_g = (prediction_g * label_g).sum(dim=[1,2,3])\n",
    "\n",
    "    diceRatio_g = (2 * diceCorrect_g + epsilon) / (dicePrediction_g + diceLabel_g + epsilon)\n",
    "\n",
    "    return 1 - diceRatio_g\n",
    "\n",
    "def logMetrics(epoch_ndx, mode_str, metrics_t):\n",
    "\n",
    "    metrics_a = metrics_t.detach().numpy()\n",
    "    sum_a = metrics_a.sum(axis=1)\n",
    "    assert np.isfinite(metrics_a).all()\n",
    "\n",
    "    allLabel_count = sum_a[METRICS_TP_NDX] + sum_a[METRICS_FN_NDX]\n",
    "\n",
    "    metrics_dict = {}\n",
    "    metrics_dict['loss/all'] = metrics_a[METRICS_LOSS_NDX].mean()\n",
    "    metrics_dict['percent_all/tp'] = sum_a[METRICS_TP_NDX] / (allLabel_count or 1) * 100\n",
    "    metrics_dict['percent_all/fn'] = sum_a[METRICS_FN_NDX] / (allLabel_count or 1) * 100\n",
    "    metrics_dict['percent_all/fp'] = sum_a[METRICS_FP_NDX] / (allLabel_count or 1) * 100\n",
    "\n",
    "\n",
    "    precision = metrics_dict['pr/precision'] = sum_a[METRICS_TP_NDX] / ((sum_a[METRICS_TP_NDX] + sum_a[METRICS_FP_NDX]) or 1)\n",
    "    recall    = metrics_dict['pr/recall']    = sum_a[METRICS_TP_NDX] / ((sum_a[METRICS_TP_NDX] + sum_a[METRICS_FN_NDX]) or 1)\n",
    "\n",
    "    metrics_dict['pr/f1_score'] = 2 * (precision * recall) / ((precision + recall) or 1)\n",
    "    return metrics_dict['pr/recall']\n"
   ]
  },
  {
   "cell_type": "code",
   "execution_count": 9,
   "metadata": {},
   "outputs": [
    {
     "name": "stderr",
     "output_type": "stream",
     "text": [
      "2021-01-27 07:19:19,969 INFO     pid:30457 p2ch13_exercise3.dsets:305:__init__ <p2ch13_exercise3.dsets.TrainingLuna2dSegmentationDataset object at 0x7f05ed799c88>: 15 training series, 156 slices, 18 nodules\n"
     ]
    }
   ],
   "source": [
    "train_dl = getDataloader(series_uid=segmentation_train_series_uid)\n",
    "#valid_dl = getDataloader(series_uid=segmentation_valid_series_uid)\n",
    "segmentation_model = UNetWrapper(\n",
    "            in_channels=7,\n",
    "            n_classes=3,\n",
    "            depth=3,\n",
    "            wf=4,\n",
    "            padding=True,\n",
    "            batch_norm=True,\n",
    "            up_mode='upconv',\n",
    "        )\n",
    "\n",
    "\n",
    "ct_t, pos_t, series_uid, slice_ndx = next(iter(train_dl))\n",
    "\n"
   ]
  },
  {
   "cell_type": "code",
   "execution_count": 25,
   "metadata": {},
   "outputs": [
    {
     "data": {
      "text/plain": [
       "torch.Size([1, 64, 64])"
      ]
     },
     "execution_count": 25,
     "metadata": {},
     "output_type": "execute_result"
    }
   ],
   "source": [
    "#plt.imshow(pos_t[0].permute(1, 2, 0).numpy(), cmap='gray')\n",
    "ct_t[0][0:1].shape"
   ]
  },
  {
   "cell_type": "code",
   "execution_count": 26,
   "metadata": {},
   "outputs": [
    {
     "data": {
      "text/plain": [
       "<matplotlib.image.AxesImage at 0x7f05e1b8ff60>"
      ]
     },
     "execution_count": 26,
     "metadata": {},
     "output_type": "execute_result"
    },
    {
     "data": {
      "image/png": "[encoded data removed]",
      "text/plain": [
       "<Figure size 432x288 with 1 Axes>"
      ]
     },
     "metadata": {
      "needs_background": "light"
     },
     "output_type": "display_data"
    }
   ],
   "source": [
    "plt.imshow(ct_t[0][0:1].permute(1, 2, 0).numpy(), cmap='gray')"
   ]
  },
  {
   "cell_type": "code",
   "execution_count": null,
   "metadata": {},
   "outputs": [],
   "source": [
    "segmentation_model=segmentation_model.to('cuda')"
   ]
  },
  {
   "cell_type": "code",
   "execution_count": 21,
   "metadata": {},
   "outputs": [
    {
     "name": "stderr",
     "output_type": "stream",
     "text": [
      "loss: -4.48522: 100%|██████████| 9375/9375 [04:24<00:00, 35.51it/s]\n"
     ]
    },
    {
     "ename": "NameError",
     "evalue": "name 'valid_dl' is not defined",
     "output_type": "error",
     "traceback": [
      "\u001b[0;31m---------------------------------------------------------------------------\u001b[0m",
      "\u001b[0;31mNameError\u001b[0m                                 Traceback (most recent call last)",
      "\u001b[0;32m<ipython-input-21-41d8ff5a9c25>\u001b[0m in \u001b[0;36m<module>\u001b[0;34m\u001b[0m\n\u001b[1;32m     12\u001b[0m \u001b[0;32mfor\u001b[0m \u001b[0mepoch_ndx\u001b[0m \u001b[0;32min\u001b[0m \u001b[0mrange\u001b[0m\u001b[0;34m(\u001b[0m\u001b[0;36m1\u001b[0m\u001b[0;34m,\u001b[0m \u001b[0mN_EPOCHS\u001b[0m\u001b[0;34m+\u001b[0m\u001b[0;36m1\u001b[0m\u001b[0;34m)\u001b[0m\u001b[0;34m:\u001b[0m\u001b[0;34m\u001b[0m\u001b[0;34m\u001b[0m\u001b[0m\n\u001b[1;32m     13\u001b[0m     \u001b[0mtrnMetrics_t\u001b[0m \u001b[0;34m=\u001b[0m \u001b[0mdoTraining\u001b[0m\u001b[0;34m(\u001b[0m\u001b[0msegmentation_model\u001b[0m\u001b[0;34m,\u001b[0m \u001b[0moptimizer\u001b[0m\u001b[0;34m,\u001b[0m \u001b[0mepoch_ndx\u001b[0m\u001b[0;34m,\u001b[0m \u001b[0mtrain_dl\u001b[0m\u001b[0;34m)\u001b[0m\u001b[0;34m\u001b[0m\u001b[0;34m\u001b[0m\u001b[0m\n\u001b[0;32m---> 14\u001b[0;31m     \u001b[0mvalMetrics_t\u001b[0m \u001b[0;34m=\u001b[0m \u001b[0mdoValidation\u001b[0m\u001b[0;34m(\u001b[0m\u001b[0msegmentation_model\u001b[0m\u001b[0;34m,\u001b[0m \u001b[0mepoch_ndx\u001b[0m\u001b[0;34m,\u001b[0m \u001b[0mvalid_dl\u001b[0m\u001b[0;34m)\u001b[0m\u001b[0;34m\u001b[0m\u001b[0;34m\u001b[0m\u001b[0m\n\u001b[0m\u001b[1;32m     15\u001b[0m     \u001b[0mtrain_scores\u001b[0m\u001b[0;34m.\u001b[0m\u001b[0mappend\u001b[0m\u001b[0;34m(\u001b[0m\u001b[0mlogMetrics\u001b[0m\u001b[0;34m(\u001b[0m\u001b[0mepoch_ndx\u001b[0m\u001b[0;34m,\u001b[0m \u001b[0;34m'train'\u001b[0m\u001b[0;34m,\u001b[0m \u001b[0mtrnMetrics_t\u001b[0m\u001b[0;34m)\u001b[0m\u001b[0;34m)\u001b[0m\u001b[0;34m\u001b[0m\u001b[0;34m\u001b[0m\u001b[0m\n\u001b[1;32m     16\u001b[0m     \u001b[0mscore\u001b[0m \u001b[0;34m=\u001b[0m \u001b[0mlogMetrics\u001b[0m\u001b[0;34m(\u001b[0m\u001b[0mepoch_ndx\u001b[0m\u001b[0;34m,\u001b[0m \u001b[0;34m'val'\u001b[0m\u001b[0;34m,\u001b[0m \u001b[0mvalMetrics_t\u001b[0m\u001b[0;34m)\u001b[0m\u001b[0;34m\u001b[0m\u001b[0;34m\u001b[0m\u001b[0m\n",
      "\u001b[0;31mNameError\u001b[0m: name 'valid_dl' is not defined"
     ]
    }
   ],
   "source": [
    "METRICS_SIZE=10\n",
    "METRICS_LOSS_NDX = 1\n",
    "METRICS_TP_NDX = 7\n",
    "METRICS_FN_NDX = 8\n",
    "METRICS_FP_NDX = 9\n",
    "\n",
    "best_score = 0.0\n",
    "train_scores=[]\n",
    "valid_scores=[]\n",
    "optimizer = torch.optim.Adam(segmentation_model.parameters())\n",
    "early_stopping_count = 0\n",
    "for epoch_ndx in range(1, N_EPOCHS+1):\n",
    "    trnMetrics_t = doTraining(segmentation_model, optimizer, epoch_ndx, train_dl)\n",
    "    #valMetrics_t = doValidation(segmentation_model, epoch_ndx, valid_dl)\n",
    "    train_scores.append(logMetrics(epoch_ndx, 'train', trnMetrics_t))   \n",
    "    score = logMetrics(epoch_ndx, 'val', valMetrics_t)\n",
    "    #valid_scores.append(score) \n",
    "    if score <= best_score:\n",
    "        early_stopping_count += 1\n",
    "    best_score = max(score, best_score)\n",
    "    if early_stopping_count==EARLY_STOPPING:\n",
    "        break"
   ]
  },
  {
   "cell_type": "markdown",
   "metadata": {},
   "source": [
    "### （a）指標のレポートをどう変えなければなりませんか。画像の出力はどうでしょうか。"
   ]
  },
  {
   "cell_type": "markdown",
   "metadata": {},
   "source": [
    "### （b）結果はどうなりましたか。結果は、次の分類ステップを省略できる程の性能でしたか。"
   ]
  },
  {
   "cell_type": "markdown",
   "metadata": {},
   "source": [
    "## [4] 64 × 64クロップ画像とスライス全体の両方を使って訓練ができますか"
   ]
  },
  {
   "cell_type": "markdown",
   "metadata": {},
   "source": [
    "dsets.pyのgetitem_trainingCrop関数内でクロップとスライス全体がバッチごとに交互に選択されるようにします。\\\n",
    "（注釈[16]にあるように、バッチ内のサンプルは同じサイズである必要がありますが、バッチ間は必ずしも同じテンソルサイズでなくて大丈夫です）"
   ]
  },
  {
   "cell_type": "markdown",
   "metadata": {},
   "source": [
    "## [5] LUNA（あるいはLIDC）意外に使えるデータを探してみてください"
   ]
  },
  {
   "cell_type": "code",
   "execution_count": 1,
   "metadata": {},
   "outputs": [],
   "source": [
    "##省略"
   ]
  },
  {
   "cell_type": "code",
   "execution_count": null,
   "metadata": {},
   "outputs": [],
   "source": []
  }
 ],
 "metadata": {
  "kernelspec": {
   "display_name": "Python 3",
   "language": "python",
   "name": "python3"
  },
  "language_info": {
   "codemirror_mode": {
    "name": "ipython",
    "version": 3
   },
   "file_extension": ".py",
   "mimetype": "text/x-python",
   "name": "python",
   "nbconvert_exporter": "python",
   "pygments_lexer": "ipython3",
   "version": "3.6.9"
  }
 },
 "nbformat": 4,
 "nbformat_minor": 4
}
