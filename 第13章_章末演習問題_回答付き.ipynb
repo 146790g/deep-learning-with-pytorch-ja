{
 "cells": [
  {
   "cell_type": "markdown",
   "metadata": {},
   "source": [
    "### 第13章の章末演習問題\n",
    "※ ここではGoogle Colaraboratoryでの実行を想定しています。\n",
    "\n",
    "※ Google Colaraboratoryでbashコマンドを実行するには、命令の前に!をつけます。"
   ]
  },
  {
   "cell_type": "markdown",
   "metadata": {},
   "source": [
    "## [1] 分類モデルのオーギュメンテーションを、本章と同様に個別のモデルとして実装してください"
   ]
  },
  {
   "cell_type": "markdown",
   "metadata": {},
   "source": [
    "この問題では12章の分類モデルを使用します（p2ch13_exercise）。"
   ]
  },
  {
   "cell_type": "markdown",
   "metadata": {},
   "source": [
    "### （a）実装では何らかを妥協しスキップする必要がありましたか。"
   ]
  },
  {
   "cell_type": "markdown",
   "metadata": {},
   "source": [
    "CPUで行っていたオーギュメンテーションをスキップする必要があります"
   ]
  },
  {
   "cell_type": "markdown",
   "metadata": {},
   "source": [
    "### （b）訓練速度はどう変わりましたか。"
   ]
  },
  {
   "cell_type": "markdown",
   "metadata": {},
   "source": [
    "12章の分類モデルでは、前処理をCPUで実行していたため、モデルに組み込んだ場合の方が(若干)早くなる。"
   ]
  },
  {
   "cell_type": "code",
   "execution_count": 1,
   "metadata": {},
   "outputs": [
    {
     "name": "stderr",
     "output_type": "stream",
     "text": [
      "2021-01-17 08:43:58,402 INFO     pid:22963 p2ch13_exercise.training:148:initModel Using CUDA; 1 devices.\n"
     ]
    }
   ],
   "source": [
    "# p2ch13-exerciseのファイルを使用します\n",
    "from p2ch13_exercise.training import LunaTrainingApp\n",
    "\n",
    "app = LunaTrainingApp([])"
   ]
  },
  {
   "cell_type": "code",
   "execution_count": 2,
   "metadata": {},
   "outputs": [
    {
     "name": "stderr",
     "output_type": "stream",
     "text": [
      "2021-01-17 08:44:01,810 INFO     pid:22963 p2ch13_exercise.training:219:main Starting LunaTrainingApp, Namespace(augment_flip=True, augment_noise=True, augment_offset=True, augment_rotate=True, augment_scale=True, augmented=False, augmented_gpu=False, balanced=False, batch_size=128, comment='dlwpt', epochs=1, num_workers=8, tb_prefix='p2ch13-exercise')\n",
      "2021-01-17 08:44:03,704 INFO     pid:22963 p2ch13_exercise.dsets:290:__init__ <p2ch13_exercise.dsets.LunaDataset object at 0x7fa561950d30>: 99128 training samples, 98879 neg, 249 pos, unbalanced ratio\n",
      "2021-01-17 08:44:03,714 INFO     pid:22963 p2ch13_exercise.dsets:290:__init__ <p2ch13_exercise.dsets.LunaDataset object at 0x7fa5d95e9748>: 11015 validation samples, 10987 neg, 28 pos, unbalanced ratio\n",
      "2021-01-17 08:44:03,715 INFO     pid:22963 p2ch13_exercise.training:233:main Epoch 1 of 1, 775/87 batches of size 128*1\n",
      "2021-01-17 08:44:03,717 WARNING  pid:22963 util.util:221:enumerateWithEstimate E1 Training ----/775, starting\n"
     ]
    },
    {
     "name": "stdout",
     "output_type": "stream",
     "text": [
      "======train len\n",
      "99128\n",
      "======val len\n",
      "11015\n"
     ]
    },
    {
     "name": "stderr",
     "output_type": "stream",
     "text": [
      "2021-01-17 08:44:38,183 INFO     pid:22963 util.util:241:enumerateWithEstimate E1 Training   64/775, done at 2021-01-17 08:50:27, 0:06:17\n",
      "2021-01-17 08:46:14,340 INFO     pid:22963 util.util:241:enumerateWithEstimate E1 Training  256/775, done at 2021-01-17 08:50:32, 0:06:22\n",
      "2021-01-17 08:50:44,905 WARNING  pid:22963 util.util:252:enumerateWithEstimate E1 Training ----/775, done at 2021-01-17 08:50:44\n",
      "2021-01-17 08:50:46,629 INFO     pid:22963 p2ch13_exercise.training:342:logMetrics E1 LunaTrainingApp\n",
      "/home/ubuntu/work/deep-learning-with-pytorch-ja/p2ch13_exercise/training.py:379: RuntimeWarning: invalid value encountered in double_scalars\n",
      "  metrics_dict[\"pr/f1_score\"] = 2 * (precision * recall) / (precision + recall)\n",
      "2021-01-17 08:50:46,722 INFO     pid:22963 p2ch13_exercise.training:391:logMetrics E1 trn      0.0306 loss,  99.6% correct, 0.0000 precision, 0.0000 recall, nan f1 score\n",
      "2021-01-17 08:50:46,722 INFO     pid:22963 p2ch13_exercise.training:403:logMetrics E1 trn_neg  0.0044 loss,  99.9% correct (98779 of 98879)\n",
      "2021-01-17 08:50:46,723 INFO     pid:22963 p2ch13_exercise.training:415:logMetrics E1 trn_pos  10.4323 loss,   0.0% correct (0 of 249)\n",
      "2021-01-17 08:50:46,765 WARNING  pid:22963 util.util:221:enumerateWithEstimate E1 Validation  ----/87, starting\n",
      "2021-01-17 08:50:50,790 INFO     pid:22963 util.util:241:enumerateWithEstimate E1 Validation    16/87, done at 2021-01-17 08:51:12, 0:00:24\n",
      "2021-01-17 08:50:53,751 INFO     pid:22963 util.util:241:enumerateWithEstimate E1 Validation    32/87, done at 2021-01-17 08:51:06, 0:00:18\n",
      "2021-01-17 08:50:59,675 INFO     pid:22963 util.util:241:enumerateWithEstimate E1 Validation    64/87, done at 2021-01-17 08:51:04, 0:00:16\n",
      "2021-01-17 08:51:02,252 WARNING  pid:22963 util.util:252:enumerateWithEstimate E1 Validation  ----/87, done at 2021-01-17 08:51:02\n",
      "2021-01-17 08:51:03,311 INFO     pid:22963 p2ch13_exercise.training:342:logMetrics E1 LunaTrainingApp\n",
      "/home/ubuntu/work/deep-learning-with-pytorch-ja/p2ch13_exercise/training.py:373: RuntimeWarning: invalid value encountered in true_divide\n",
      "  truePos_count + falsePos_count\n",
      "2021-01-17 08:51:03,313 INFO     pid:22963 p2ch13_exercise.training:391:logMetrics E1 val      0.0183 loss,  99.7% correct, nan precision, 0.0000 recall, nan f1 score\n",
      "2021-01-17 08:51:03,313 INFO     pid:22963 p2ch13_exercise.training:403:logMetrics E1 val_neg  0.0012 loss, 100.0% correct (10987 of 10987)\n",
      "2021-01-17 08:51:03,314 INFO     pid:22963 p2ch13_exercise.training:415:logMetrics E1 val_pos  6.7466 loss,   0.0% correct (0 of 28)\n"
     ]
    },
    {
     "name": "stdout",
     "output_type": "stream",
     "text": [
      "CPU times: user 4min 19s, sys: 2min 22s, total: 6min 41s\n",
      "Wall time: 7min 1s\n"
     ]
    }
   ],
   "source": [
    "%%time\n",
    "app.main()"
   ]
  },
  {
   "cell_type": "code",
   "execution_count": 3,
   "metadata": {},
   "outputs": [
    {
     "name": "stderr",
     "output_type": "stream",
     "text": [
      "2021-01-17 08:54:45,061 INFO     pid:22963 p2ch13_exercise.training:148:initModel Using CUDA; 1 devices.\n",
      "2021-01-17 08:54:45,066 INFO     pid:22963 p2ch13_exercise.training:219:main Starting LunaTrainingApp, Namespace(augment_flip=True, augment_noise=True, augment_offset=True, augment_rotate=True, augment_scale=True, augmented=False, augmented_gpu=True, balanced=False, batch_size=128, comment='dlwpt', epochs=1, num_workers=8, tb_prefix='p2ch13-exercise')\n",
      "2021-01-17 08:54:45,155 INFO     pid:22963 p2ch13_exercise.dsets:290:__init__ <p2ch13_exercise.dsets.LunaDataset object at 0x7fa5d9e3c128>: 99128 training samples, 98879 neg, 249 pos, unbalanced ratio\n",
      "2021-01-17 08:54:45,166 INFO     pid:22963 p2ch13_exercise.dsets:290:__init__ <p2ch13_exercise.dsets.LunaDataset object at 0x7fa5dec4d048>: 11015 validation samples, 10987 neg, 28 pos, unbalanced ratio\n",
      "2021-01-17 08:54:45,166 INFO     pid:22963 p2ch13_exercise.training:233:main Epoch 1 of 1, 775/87 batches of size 128*1\n",
      "2021-01-17 08:54:45,167 WARNING  pid:22963 util.util:221:enumerateWithEstimate E1 Training ----/775, starting\n"
     ]
    },
    {
     "name": "stdout",
     "output_type": "stream",
     "text": [
      "======train len\n",
      "99128\n",
      "======val len\n",
      "11015\n"
     ]
    },
    {
     "name": "stderr",
     "output_type": "stream",
     "text": [
      "2021-01-17 08:55:18,929 INFO     pid:22963 util.util:241:enumerateWithEstimate E1 Training   64/775, done at 2021-01-17 09:01:19, 0:06:29\n",
      "2021-01-17 08:56:58,943 INFO     pid:22963 util.util:241:enumerateWithEstimate E1 Training  256/775, done at 2021-01-17 09:01:27, 0:06:37\n",
      "2021-01-17 09:01:38,747 WARNING  pid:22963 util.util:252:enumerateWithEstimate E1 Training ----/775, done at 2021-01-17 09:01:38\n",
      "2021-01-17 09:01:38,853 INFO     pid:22963 p2ch13_exercise.training:342:logMetrics E1 LunaTrainingApp\n",
      "2021-01-17 09:01:38,903 INFO     pid:22963 p2ch13_exercise.training:391:logMetrics E1 trn      0.0198 loss,  99.7% correct, 0.0000 precision, 0.0000 recall, nan f1 score\n",
      "2021-01-17 09:01:38,904 INFO     pid:22963 p2ch13_exercise.training:403:logMetrics E1 trn_neg  0.0027 loss, 100.0% correct (98876 of 98879)\n",
      "2021-01-17 09:01:38,905 INFO     pid:22963 p2ch13_exercise.training:415:logMetrics E1 trn_pos  6.8212 loss,   0.0% correct (0 of 249)\n",
      "2021-01-17 09:01:38,947 WARNING  pid:22963 util.util:221:enumerateWithEstimate E1 Validation  ----/87, starting\n",
      "2021-01-17 09:01:43,067 INFO     pid:22963 util.util:241:enumerateWithEstimate E1 Validation    16/87, done at 2021-01-17 09:02:05, 0:00:25\n",
      "2021-01-17 09:01:46,068 INFO     pid:22963 util.util:241:enumerateWithEstimate E1 Validation    32/87, done at 2021-01-17 09:01:58, 0:00:18\n",
      "2021-01-17 09:01:52,524 INFO     pid:22963 util.util:241:enumerateWithEstimate E1 Validation    64/87, done at 2021-01-17 09:01:57, 0:00:17\n",
      "2021-01-17 09:01:55,294 WARNING  pid:22963 util.util:252:enumerateWithEstimate E1 Validation  ----/87, done at 2021-01-17 09:01:55\n",
      "2021-01-17 09:01:56,256 INFO     pid:22963 p2ch13_exercise.training:342:logMetrics E1 LunaTrainingApp\n",
      "2021-01-17 09:01:56,258 INFO     pid:22963 p2ch13_exercise.training:391:logMetrics E1 val      0.0179 loss,  99.7% correct, nan precision, 0.0000 recall, nan f1 score\n",
      "2021-01-17 09:01:56,258 INFO     pid:22963 p2ch13_exercise.training:403:logMetrics E1 val_neg  0.0036 loss, 100.0% correct (10987 of 10987)\n",
      "2021-01-17 09:01:56,259 INFO     pid:22963 p2ch13_exercise.training:415:logMetrics E1 val_pos  5.6315 loss,   0.0% correct (0 of 28)\n"
     ]
    },
    {
     "name": "stdout",
     "output_type": "stream",
     "text": [
      "CPU times: user 6min 59s, sys: 6.79 s, total: 7min 6s\n",
      "Wall time: 7min 11s\n"
     ]
    }
   ],
   "source": [
    "%%time\n",
    "app = LunaTrainingApp([\"--augmented-gpu\"])\n",
    "app.main()"
   ]
  },
  {
   "cell_type": "markdown",
   "metadata": {},
   "source": [
    "## [2] セグメンテーションのDatasetの実装を変更して訓練、検証、テストセットの3つに分割できるようにしてください"
   ]
  },
  {
   "cell_type": "markdown",
   "metadata": {},
   "source": [
    "### （a）テストセットにはデータのどれくらいの割合を使いましたか。"
   ]
  },
  {
   "cell_type": "markdown",
   "metadata": {},
   "source": [
    "### （b）テストセットに対する性能と検証セットに対する性能は同程度でしたか。"
   ]
  },
  {
   "cell_type": "markdown",
   "metadata": {},
   "source": [
    "### （c）訓練サンプル数を減らすと、訓練結果はどの程度悪くなりましたか。"
   ]
  },
  {
   "cell_type": "markdown",
   "metadata": {},
   "source": [
    "## [3] 結節・非結節を見分けるだけでなく、悪性結節が良性結節かも見分けるセグメンテーションモデルを作成してください"
   ]
  },
  {
   "cell_type": "markdown",
   "metadata": {},
   "source": [
    "### （a）指標のレポートをどう変えなければなりませんか。画像の出力はどうでしょうか。"
   ]
  },
  {
   "cell_type": "markdown",
   "metadata": {},
   "source": [
    "### （b）結果はどうなりましたか。結果は、次の分類ステップを省略できる程の性能でしたか。"
   ]
  },
  {
   "cell_type": "code",
   "execution_count": null,
   "metadata": {},
   "outputs": [],
   "source": []
  }
 ],
 "metadata": {
  "kernelspec": {
   "display_name": "Environment (conda_pytorch_p36)",
   "language": "python",
   "name": "conda_pytorch_p36"
  },
  "language_info": {
   "codemirror_mode": {
    "name": "ipython",
    "version": 3
   },
   "file_extension": ".py",
   "mimetype": "text/x-python",
   "name": "python",
   "nbconvert_exporter": "python",
   "pygments_lexer": "ipython3",
   "version": "3.6.10"
  }
 },
 "nbformat": 4,
 "nbformat_minor": 4
}
